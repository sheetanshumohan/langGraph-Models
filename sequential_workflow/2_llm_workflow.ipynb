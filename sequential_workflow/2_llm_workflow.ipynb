{
 "cells": [
  {
   "cell_type": "code",
   "execution_count": 34,
   "id": "dd4c17e8",
   "metadata": {},
   "outputs": [
    {
     "data": {
      "text/plain": [
       "True"
      ]
     },
     "execution_count": 34,
     "metadata": {},
     "output_type": "execute_result"
    }
   ],
   "source": [
    "from langchain_google_genai import ChatGoogleGenerativeAI\n",
    "from dotenv import load_dotenv\n",
    "from langgraph.graph import StateGraph,START,END\n",
    "from langchain_core.prompts import PromptTemplate\n",
    "from IPython.display import Image\n",
    "from typing import TypedDict\n",
    "load_dotenv()"
   ]
  },
  {
   "cell_type": "code",
   "execution_count": 35,
   "id": "a6e2cf90",
   "metadata": {},
   "outputs": [],
   "source": [
    "model=ChatGoogleGenerativeAI(model='gemini-2.5-pro')"
   ]
  },
  {
   "cell_type": "code",
   "execution_count": 36,
   "id": "6ff74b4a",
   "metadata": {},
   "outputs": [],
   "source": [
    "class LLMState(TypedDict):\n",
    "    question:str\n",
    "    response:str"
   ]
  },
  {
   "cell_type": "code",
   "execution_count": 37,
   "id": "e4799a4c",
   "metadata": {},
   "outputs": [],
   "source": [
    "graph=StateGraph(LLMState)"
   ]
  },
  {
   "cell_type": "code",
   "execution_count": 38,
   "id": "b5710590",
   "metadata": {},
   "outputs": [],
   "source": [
    "def qa(state:LLMState)->LLMState:\n",
    "    question=state['question']\n",
    "    prompt=f'Tell me about the answer of the given question {question}'\n",
    "    results=model.invoke(prompt).content\n",
    "    state['response']=results\n",
    "    return state   "
   ]
  },
  {
   "cell_type": "code",
   "execution_count": 39,
   "id": "60342ba9",
   "metadata": {},
   "outputs": [],
   "source": [
    "graph.add_node('qa',qa)\n",
    "graph.add_edge(START,'qa')\n",
    "graph.add_edge('qa',END)\n",
    "workflow=graph.compile()"
   ]
  },
  {
   "cell_type": "code",
   "execution_count": 40,
   "id": "56e1d2b4",
   "metadata": {},
   "outputs": [
    {
     "data": {
      "text/plain": [
       "{'question': 'Tell me about AI',\n",
       " 'response': 'Of course. Your question is interesting because it\\'s a \"meta-question.\" You\\'re not just asking \"Tell me about AI,\" but rather asking me to explain *how one would construct a good answer* to that question.\\n\\nA truly effective answer to \"Tell me about AI\" shouldn\\'t be a single block of text. It needs to be structured and layered, moving from a simple core concept to more complex details, applications, and implications.\\n\\nHere is a breakdown of how a comprehensive answer is constructed, followed by the answer itself.\\n\\n***\\n\\n### The Structure of a Good Answer About AI\\n\\nA good answer should be organized into the following key parts to be clear, informative, and balanced:\\n\\n1.  **The Simple, Core Definition:** Start with a high-level, easy-to-understand explanation. What is the fundamental idea? An analogy is very helpful here.\\n2.  **The Main Types of AI:** This is a crucial distinction that clarifies what we have today versus what we see in science fiction. It manages expectations.\\n3.  **How AI \"Learns\" (The Engine):** Briefly explain the core mechanism behind modern AI, which is Machine Learning. This answers the \"how does it work?\" question without getting overly technical.\\n4.  **Practical, Everyday Examples:** Ground the abstract concepts in reality. Show where people are already interacting with AI, often without realizing it.\\n5.  **The Opportunities (The \"Good\"):** Explain why AI is one of the most transformative technologies in human history. What are the potential benefits?\\n6.  **The Challenges & Ethics (The \"Bad and the Ugly\"):** Provide a balanced view by discussing the significant risks, ethical dilemmas, and societal challenges AI presents.\\n7.  **The Future Outlook:** Conclude with a look at where the field is heading.\\n\\n***\\n\\n### The Answer Itself: \"Tell me about AI\"\\n\\nHere is the detailed answer, following the structure outlined above.\\n\\n#### 1. The Simple, Core Definition\\n\\nAt its heart, **Artificial Intelligence (AI)** is the science and engineering of creating intelligent machines, especially intelligent computer programs. It\\'s a broad field of computer science dedicated to building systems that can perform tasks that typically require human intelligence.\\n\\nThink of it this way: Normally, we give a computer *explicit instructions* to solve a problem (e.g., \"if X happens, do Y\"). With AI, we build a system that can *learn how to solve the problem on its own* by recognizing patterns, making decisions, and improving from experience.\\n\\n---\\n\\n#### 2. The Main Types of AI\\n\\nThis is the most important concept to understand the current state of AI.\\n\\n*   **Artificial Narrow Intelligence (ANI) or Weak AI:** This is the *only* type of AI we have successfully created so far. ANI is designed and trained for one specific task. It can be incredibly powerful at that task, but it cannot operate outside of its narrow domain.\\n    *   **Examples:** The AI that recommends movies on Netflix, Siri or Alexa, the opponent in a chess game, Google Search algorithms, or a spam filter for your email.\\n\\n*   **Artificial General Intelligence (AGI) or Strong AI:** This is the AI you see in movies, like Data from *Star Trek* or the hosts in *Westworld*. AGI would have the ability to understand, learn, and apply its intelligence to solve any problem, much like a human being. It would possess consciousness, self-awareness, and problem-solving skills across multiple domains. **We have not achieved AGI.** It is the holy grail for many AI researchers.\\n\\n*   **Artificial Superintelligence (ASI):** This is a hypothetical future stage where an AI\\'s intellect would be vastly superior to the brightest and most gifted human minds in virtually every field, from scientific creativity to general wisdom.\\n\\n---\\n\\n#### 3. How AI \"Learns\" (The Engine: Machine Learning)\\n\\nThe engine driving the recent explosion in AI capabilities is **Machine Learning (ML)**. Instead of being programmed with rules, an ML model is \"trained\" on vast amounts of data. The main methods are:\\n\\n*   **Supervised Learning:** The AI is fed labeled data, like a student using flashcards with answers on the back. For example, you show it a million pictures of cats labeled \"cat\" and a million pictures of other things labeled \"not a cat.\" Eventually, it learns to identify a cat in a new photo on its own.\\n*   **Unsupervised Learning:** The AI is given a huge dataset with no labels and is asked to find hidden patterns or structures on its own. This is useful for tasks like segmenting customers into different marketing groups without knowing the groups beforehand.\\n*   **Reinforcement Learning:** The AI learns through trial and error, like training a pet. It receives virtual \"rewards\" for correct actions and \"penalties\" for incorrect ones. This is the method used to train AI to play complex games like Go or to control robotic arms.\\n\\n**Deep Learning** is a powerful subfield of Machine Learning that uses \"neural networks\" with many layers (hence \"deep\") to find very complex patterns in data. It\\'s the technology behind image recognition and the large language models (like me!) that can understand and generate human-like text.\\n\\n---\\n\\n#### 4. Practical, Everyday Examples\\n\\nYou use AI every day:\\n\\n*   **Virtual Assistants:** Siri, Alexa, and Google Assistant use AI to understand your voice commands.\\n*   **Recommendation Engines:** Netflix, YouTube, and Spotify analyze your viewing/listening habits to suggest what you might like next.\\n*   **Navigation Apps:** Google Maps and Waze use AI to analyze traffic data in real-time to find the fastest route.\\n*   **Social Media Feeds:** Facebook, Instagram, and TikTok use AI to curate your feed based on what they think will keep you engaged.\\n*   **Spam Filters & Cybersecurity:** AI systems detect and block malicious emails and cyber threats.\\n\\n---\\n\\n#### 5. The Opportunities (The \"Good\")\\n\\nAI has the potential to solve some of humanity\\'s biggest problems:\\n\\n*   **Science & Medicine:** Accelerating drug discovery, analyzing medical scans to detect diseases like cancer earlier and more accurately, and modeling complex systems like climate change.\\n*   **Efficiency & Productivity:** Automating repetitive tasks in manufacturing, logistics, and administration, freeing up humans for more creative work.\\n*   **Personalization:** Tailoring education to individual student needs and providing highly personalized healthcare and entertainment.\\n*   **Safety:** Powering self-driving cars that could dramatically reduce traffic accidents.\\n\\n---\\n\\n#### 6. The Challenges & Ethics (The \"Bad and the Ugly\")\\n\\nAI is a powerful tool, and with great power come significant challenges:\\n\\n*   **Job Displacement:** Automation could eliminate many jobs, requiring massive societal shifts in education and employment.\\n*   **Bias and Fairness:** If an AI is trained on biased data (e.g., historical hiring data that favored men), its decisions will also be biased. This can perpetuate and even amplify societal inequalities.\\n*   **Privacy:** AI systems often require vast amounts of personal data to function, creating major privacy concerns.\\n*   **Security:** AI can be used for malicious purposes, such as creating autonomous weapons, sophisticated cyberattacks, or widespread misinformation (\"deepfakes\").\\n*   **The \"Black Box\" Problem:** For some advanced AI models, even their creators don\\'t fully understand *why* they make a particular decision, making them difficult to trust or debug.\\n\\n---\\n\\n#### 7. The Future Outlook\\n\\nThe field of AI is advancing at an incredible pace. In the near future, we can expect AI to become more integrated into our lives, acting as a seamless co-pilot in many professional and personal tasks. The long-term goal for many remains the pursuit of AGI, but this is likely still decades away, if not longer.\\n\\nThe most critical task for humanity is to guide the development of AI **responsibly**, establishing strong ethical guidelines and safety protocols to ensure its benefits are shared by all and its risks are carefully managed.'}"
      ]
     },
     "execution_count": 40,
     "metadata": {},
     "output_type": "execute_result"
    }
   ],
   "source": [
    "output_state=workflow.invoke({'question':'Tell me about AI'})\n",
    "output_state"
   ]
  },
  {
   "cell_type": "code",
   "execution_count": 42,
   "id": "28d63064",
   "metadata": {},
   "outputs": [
    {
     "data": {
      "image/png": "[encoded data removed]",
      "text/plain": [
       "<IPython.core.display.Image object>"
      ]
     },
     "execution_count": 42,
     "metadata": {},
     "output_type": "execute_result"
    }
   ],
   "source": [
    "Image(workflow.get_graph().draw_mermaid_png())"
   ]
  },
  {
   "cell_type": "code",
   "execution_count": null,
   "id": "53108ab2",
   "metadata": {},
   "outputs": [],
   "source": []
  }
 ],
 "metadata": {
  "kernelspec": {
   "display_name": "Python 3",
   "language": "python",
   "name": "python3"
  },
  "language_info": {
   "name": "python",
   "version": "3.12.0"
  }
 },
 "nbformat": 4,
 "nbformat_minor": 5
}
