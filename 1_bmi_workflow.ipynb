{
 "cells": [
  {
   "cell_type": "code",
   "execution_count": 14,
   "id": "3c19a46d",
   "metadata": {},
   "outputs": [],
   "source": [
    "from langgraph.graph import StateGraph,START,END\n",
    "from typing import TypedDict,Annotated,Literal\n",
    "from IPython.display import Image"
   ]
  },
  {
   "cell_type": "code",
   "execution_count": null,
   "id": "66265948",
   "metadata": {},
   "outputs": [],
   "source": [
    "class BMIState(TypedDict):\n",
    "    weight:Annotated[float,\"Weight of the person\"]\n",
    "    height:Annotated[float,\"Height of the person\"]\n",
    "    bmi:Annotated[float,\"BMI of the person\"]\n",
    "    personality:Annotated[Literal[\"underweight\",\"normal\",\"overweight\",\"obese\"],\"category of the person according to the bmi\"]\n",
    "    "
   ]
  },
  {
   "cell_type": "code",
   "execution_count": 7,
   "id": "a4082a72",
   "metadata": {},
   "outputs": [],
   "source": [
    "def bmi_calc(state:BMIState)->BMIState:\n",
    "    weight=state['weight']\n",
    "    height=state['height']\n",
    "    ans=weight/(height*height)\n",
    "    state['bmi']=round(ans,2)\n",
    "    return state"
   ]
  },
  {
   "cell_type": "code",
   "execution_count": 17,
   "id": "ff6942df",
   "metadata": {},
   "outputs": [],
   "source": [
    "def bmi_categorizer(state:BMIState)->BMIState:\n",
    "    bmi=state['bmi']\n",
    "    if bmi < 18.5:\n",
    "        state['personality']='underweight'\n",
    "    elif bmi < 24.9:\n",
    "        state['personality']='normal weight'\n",
    "    elif bmi < 29.9:\n",
    "        state['personality']='overweight'\n",
    "    else:\n",
    "        state['personality']='obese'\n",
    "    return state"
   ]
  },
  {
   "cell_type": "code",
   "execution_count": 19,
   "id": "babaa8f4",
   "metadata": {},
   "outputs": [],
   "source": [
    "graph=StateGraph(BMIState)\n",
    "graph.add_node('bmi_calculator',bmi_calc)\n",
    "graph.add_node('bmi_categorizer',bmi_categorizer)\n",
    "graph.add_edge(START,'bmi_calculator')\n",
    "graph.add_edge('bmi_calculator','bmi_categorizer')\n",
    "graph.add_edge('bmi_categorizer',END)\n",
    "workflow=graph.compile()"
   ]
  },
  {
   "cell_type": "code",
   "execution_count": 20,
   "id": "1bd1446a",
   "metadata": {},
   "outputs": [
    {
     "data": {
      "text/plain": [
       "{'weight': 80, 'height': 1.73, 'bmi': 26.73, 'personality': 'overweight'}"
      ]
     },
     "execution_count": 20,
     "metadata": {},
     "output_type": "execute_result"
    }
   ],
   "source": [
    "output_state=workflow.invoke({'weight':80,'height':1.73})\n",
    "output_state"
   ]
  },
  {
   "cell_type": "code",
   "execution_count": 21,
   "id": "805fcd43",
   "metadata": {},
   "outputs": [
    {
     "data": {
      "image/png": "[encoded data removed]",
      "text/plain": [
       "<IPython.core.display.Image object>"
      ]
     },
     "execution_count": 21,
     "metadata": {},
     "output_type": "execute_result"
    }
   ],
   "source": [
    "Image(workflow.get_graph().draw_mermaid_png())"
   ]
  },
  {
   "cell_type": "code",
   "execution_count": null,
   "id": "e430a1c9",
   "metadata": {},
   "outputs": [],
   "source": []
  }
 ],
 "metadata": {
  "kernelspec": {
   "display_name": "venv",
   "language": "python",
   "name": "python3"
  },
  "language_info": {
   "codemirror_mode": {
    "name": "ipython",
    "version": 3
   },
   "file_extension": ".py",
   "mimetype": "text/x-python",
   "name": "python",
   "nbconvert_exporter": "python",
   "pygments_lexer": "ipython3",
   "version": "3.12.0"
  }
 },
 "nbformat": 4,
 "nbformat_minor": 5
}
