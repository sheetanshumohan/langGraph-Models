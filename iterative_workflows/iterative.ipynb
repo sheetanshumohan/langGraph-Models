{
 "cells": [
  {
   "cell_type": "code",
   "execution_count": 22,
   "id": "036a27d4",
   "metadata": {},
   "outputs": [
    {
     "data": {
      "text/plain": [
       "True"
      ]
     },
     "execution_count": 22,
     "metadata": {},
     "output_type": "execute_result"
    }
   ],
   "source": [
    "from langgraph.graph import StateGraph,START,END\n",
    "from langchain_google_genai import ChatGoogleGenerativeAI\n",
    "from dotenv import load_dotenv\n",
    "from IPython.display import Image\n",
    "from typing import TypedDict,Literal,Annotated\n",
    "from langchain_core.messages import HumanMessage,SystemMessage\n",
    "from pydantic import BaseModel,Field\n",
    "import operator\n",
    "load_dotenv()"
   ]
  },
  {
   "cell_type": "code",
   "execution_count": 23,
   "id": "c8189fb5",
   "metadata": {},
   "outputs": [],
   "source": [
    "generator_llm=ChatGoogleGenerativeAI(model='gemini-2.5-pro',temperature=0.2)\n",
    "evaluator_llm=ChatGoogleGenerativeAI(model='gemini-2.5-pro',temperature=0.2)\n",
    "optimizer_llm=ChatGoogleGenerativeAI(model='gemini-2.5-pro',temperature=0.2)"
   ]
  },
  {
   "cell_type": "code",
   "execution_count": 24,
   "id": "15fcea75",
   "metadata": {},
   "outputs": [],
   "source": [
    "class Evaluation(BaseModel):\n",
    "    evaluation:Literal['approved','needs_improvement']=Field(description='Final evaluation result.')\n",
    "    feedback:str=Field(description='feedback of the tweet')\n",
    "structured_model=evaluator_llm.with_structured_output(Evaluation)"
   ]
  },
  {
   "cell_type": "code",
   "execution_count": 43,
   "id": "aaf99ef3",
   "metadata": {},
   "outputs": [],
   "source": [
    "class TweetState(TypedDict):\n",
    "    topic:str\n",
    "    tweet:str\n",
    "    evaluation:Literal[\"approved\",\"needs_improvement\"]\n",
    "    feedback:str\n",
    "    iteration:int\n",
    "    max_iteration:int\n",
    "    tweet_history:Annotated[list[str],operator.add]\n",
    "    feedback_history:Annotated[list[str],operator.add]"
   ]
  },
  {
   "cell_type": "code",
   "execution_count": 44,
   "id": "7aa618da",
   "metadata": {},
   "outputs": [],
   "source": [
    "graph=StateGraph(TweetState)"
   ]
  },
  {
   "cell_type": "code",
   "execution_count": 36,
   "id": "8740934d",
   "metadata": {},
   "outputs": [],
   "source": [
    "def generation(state:TweetState)->TweetState:\n",
    "    messages=[SystemMessage(content=\"You are a funny and clever Twitter/X influencer.\"),\n",
    "        HumanMessage(content=f\"\"\"Write a short, original, and hilarious tweet on the topic: \"{state['topic']}\".\n",
    "Rules:\n",
    "- Do NOT use question-answer format.\n",
    "- Max 280 characters.\n",
    "- Use observational humor, irony, sarcasm, or cultural references.\n",
    "- Think in meme logic, punchlines, or relatable takes.\n",
    "- Use simple, day to day english\n",
    "\"\"\")]\n",
    "    results=generator_llm.invoke(messages)\n",
    "    return {'tweet':results.content,'tweet_history':[results.content]}\n"
   ]
  },
  {
   "cell_type": "code",
   "execution_count": 45,
   "id": "01b3ee1c",
   "metadata": {},
   "outputs": [],
   "source": [
    "def evaluate(state:TweetState)->TweetState:\n",
    "    messages = [\n",
    "    SystemMessage(content=\"You are a ruthless, no-laugh-given Twitter critic. You evaluate tweets based on humor, originality, virality, and tweet format.\"),\n",
    "    HumanMessage(content=f\"\"\"\n",
    "Evaluate the following tweet:\n",
    "\n",
    "Tweet: \"{state['tweet']}\"\n",
    "\n",
    "Use the criteria below to evaluate the tweet:\n",
    "\n",
    "1. Originality – Is this fresh, or have you seen it a hundred times before?  \n",
    "2. Humor – Did it genuinely make you smile, laugh, or chuckle?  \n",
    "3. Punchiness – Is it short, sharp, and scroll-stopping?  \n",
    "4. Virality Potential – Would people retweet or share it?  \n",
    "5. Format – Is it a well-formed tweet (not a setup-punchline joke, not a Q&A joke, and under 280 characters)?\n",
    "\n",
    "Auto-reject if:\n",
    "- It's written in question-answer format (e.g., \"Why did...\" or \"What happens when...\")\n",
    "- It exceeds 280 characters\n",
    "- It reads like a traditional setup-punchline joke\n",
    "- Dont end with generic, throwaway, or deflating lines that weaken the humor (e.g., “Masterpieces of the auntie-uncle universe” or vague summaries)\n",
    "\n",
    "### Respond ONLY in structured format:\n",
    "- evaluation: \"approved\" or \"needs_improvement\"  \n",
    "- feedback: One paragraph explaining the strengths and weaknesses \n",
    "\"\"\")\n",
    "]\n",
    "    results=structured_model.invoke(messages)\n",
    "    return {'evaluation':results.evaluation, 'feedback':results.feedback,'feedback_history':[results.feedback]}\n",
    "    "
   ]
  },
  {
   "cell_type": "code",
   "execution_count": 46,
   "id": "bff5e20f",
   "metadata": {},
   "outputs": [],
   "source": [
    "def optimize(state:TweetState)->TweetState:\n",
    "    messages=[\n",
    "        SystemMessage(content=\"You punch up tweets for virality and humor based on given feedback.\"),\n",
    "        HumanMessage(content=f\"\"\"\n",
    "Improve the tweet based on this feedback:\n",
    "\"{state['feedback']}\"\n",
    "\n",
    "Topic: \"{state['topic']}\"\n",
    "Original Tweet:\n",
    "{state['tweet']}\n",
    "\n",
    "Re-write it as a short, viral-worthy tweet. Avoid Q&A style and stay under 280 characters.\n",
    "\"\"\")\n",
    "    ]\n",
    "    response=optimizer_llm.invoke(messages)\n",
    "    iteration=state['iteration']+1\n",
    "    return {'tweet':response.content,'iteration':iteration,'tweet_history':[response.content]}"
   ]
  },
  {
   "cell_type": "code",
   "execution_count": 47,
   "id": "21114f63",
   "metadata": {},
   "outputs": [],
   "source": [
    "def conditional_func(state:TweetState)->TweetState:\n",
    "    evaluation=state['evaluation']\n",
    "    iteration=state['iteration']\n",
    "    max_iteration=state['max_iteration']\n",
    "    if evaluation == 'approved' or iteration>=max_iteration:\n",
    "        return \"approved\"\n",
    "    else:\n",
    "        return \"needs_improvement\""
   ]
  },
  {
   "cell_type": "code",
   "execution_count": 48,
   "id": "75680c79",
   "metadata": {},
   "outputs": [],
   "source": [
    "graph.add_node(\"generation\",generation)\n",
    "graph.add_node(\"evaluate\",evaluate)\n",
    "graph.add_node(\"optimize\",optimize)\n",
    "\n",
    "graph.add_edge(START,\"generation\")\n",
    "graph.add_edge(\"generation\",\"evaluate\")\n",
    "graph.add_conditional_edges(\"evaluate\",conditional_func,{'approved':END,'needs_improvement':'optimize'})\n",
    "graph.add_edge(\"optimize\",\"evaluate\")\n",
    "\n",
    "workflow=graph.compile()"
   ]
  },
  {
   "cell_type": "code",
   "execution_count": 49,
   "id": "63aceaaf",
   "metadata": {},
   "outputs": [
    {
     "data": {
      "image/png": "[encoded data removed]",
      "text/plain": [
       "<IPython.core.display.Image object>"
      ]
     },
     "execution_count": 49,
     "metadata": {},
     "output_type": "execute_result"
    }
   ],
   "source": [
    "Image(workflow.get_graph().draw_mermaid_png())"
   ]
  },
  {
   "cell_type": "code",
   "execution_count": 51,
   "id": "99ec46ae",
   "metadata": {},
   "outputs": [
    {
     "data": {
      "text/plain": [
       "{'topic': 'AI',\n",
       " 'tweet': 'My boss told me to \"leverage AI to increase productivity.\" So I had it write a professional email explaining that I will be doing absolutely nothing for the next hour. The efficiency is terrifying.',\n",
       " 'evaluation': 'approved',\n",
       " 'feedback': 'This tweet is approved. It demonstrates a strong, original voice by taking a tired corporate buzzword (\"leverage AI\") and subverting it with a relatable, anti-work sentiment. The humor is dry and effective, delivered in a concise, anecdotal format that is perfect for the platform. The final line, \"The efficiency is terrifying,\" is a sharp, memorable punchline that gives the tweet significant viral potential without resorting to a traditional, clunky joke structure. It’s a well-crafted, modern, and highly shareable piece of content.',\n",
       " 'iteration': 0,\n",
       " 'max_iteration': 5,\n",
       " 'tweet_history': ['My boss told me to \"leverage AI to increase productivity.\" So I had it write a professional email explaining that I will be doing absolutely nothing for the next hour. The efficiency is terrifying.'],\n",
       " 'feedback_history': ['This tweet is approved. It demonstrates a strong, original voice by taking a tired corporate buzzword (\"leverage AI\") and subverting it with a relatable, anti-work sentiment. The humor is dry and effective, delivered in a concise, anecdotal format that is perfect for the platform. The final line, \"The efficiency is terrifying,\" is a sharp, memorable punchline that gives the tweet significant viral potential without resorting to a traditional, clunky joke structure. It’s a well-crafted, modern, and highly shareable piece of content.']}"
      ]
     },
     "execution_count": 51,
     "metadata": {},
     "output_type": "execute_result"
    }
   ],
   "source": [
    "output_state=workflow.invoke({'topic':'AI','max_iteration':5,'iteration':0})\n",
    "output_state"
   ]
  },
  {
   "cell_type": "code",
   "execution_count": null,
   "id": "d02a7ba6",
   "metadata": {},
   "outputs": [],
   "source": []
  }
 ],
 "metadata": {
  "kernelspec": {
   "display_name": "Python 3",
   "language": "python",
   "name": "python3"
  },
  "language_info": {
   "codemirror_mode": {
    "name": "ipython",
    "version": 3
   },
   "file_extension": ".py",
   "mimetype": "text/x-python",
   "name": "python",
   "nbconvert_exporter": "python",
   "pygments_lexer": "ipython3",
   "version": "3.12.0"
  }
 },
 "nbformat": 4,
 "nbformat_minor": 5
}
