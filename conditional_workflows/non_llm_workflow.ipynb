{
 "cells": [
  {
   "cell_type": "code",
   "execution_count": 25,
   "id": "2e37d7e9",
   "metadata": {},
   "outputs": [],
   "source": [
    "from langgraph.graph import StateGraph,START,END\n",
    "from typing import TypedDict\n",
    "from IPython.display import Image\n",
    "import math"
   ]
  },
  {
   "cell_type": "code",
   "execution_count": 16,
   "id": "8635047f",
   "metadata": {},
   "outputs": [],
   "source": [
    "class EquationState(TypedDict):\n",
    "    a:int\n",
    "    b:int\n",
    "    c:int\n",
    "    equation:str\n",
    "    d:float\n",
    "    res1:int\n",
    "    res2:int"
   ]
  },
  {
   "cell_type": "code",
   "execution_count": 23,
   "id": "b6f8d5d1",
   "metadata": {},
   "outputs": [],
   "source": [
    "graph=StateGraph(EquationState)"
   ]
  },
  {
   "cell_type": "code",
   "execution_count": 17,
   "id": "d0aeb605",
   "metadata": {},
   "outputs": [],
   "source": [
    "def show_equation(state:EquationState)->EquationState:\n",
    "    a=state['a']\n",
    "    b=state['b']\n",
    "    c=state['c']\n",
    "    eq=f\"{a}x^2 + {b}x + {c}\"\n",
    "    return {'equation':eq}\n",
    "def calc_dis(state:EquationState)->EquationState:\n",
    "    a=state['a']\n",
    "    b=state['b']\n",
    "    c=state['c']\n",
    "    d=b**2 - 4*a*c\n",
    "    return {'d':d}\n",
    "def conditional_func(state:EquationState)->EquationState:\n",
    "    d=state['d']\n",
    "    if d>0:\n",
    "        return \"real_roots\"\n",
    "    elif d==0:\n",
    "        return \"repeated_roots\"\n",
    "    elif d<0:\n",
    "        return \"non_real_roots\"\n",
    "def non_real_roots(state:EquationState)->EquationState:\n",
    "    return {'res1':'','res2':''}\n",
    "def real_roots(state:EquationState)->EquationState:\n",
    "    a=state['a']\n",
    "    b=state['b']\n",
    "    d=state['d']\n",
    "    res1= (-b + math.sqrt(d))/(2*a)\n",
    "    res2= (-b - math.sqrt(d))/(2*a)\n",
    "    return {'res1':res1,'res2':res2}\n",
    "def repeated_roots(state:EquationState)->EquationState:\n",
    "    a=state['a']\n",
    "    b=state['b']\n",
    "    res=-b/2*a\n",
    "    return {'res1':res,'res2':res}"
   ]
  },
  {
   "cell_type": "code",
   "execution_count": 24,
   "id": "a9f6e8fe",
   "metadata": {},
   "outputs": [],
   "source": [
    "graph.add_node(\"calculate_discriminant\",calc_dis)\n",
    "graph.add_node(\"show_equation\",show_equation)\n",
    "graph.add_node(\"non_real_roots\",non_real_roots)\n",
    "graph.add_node(\"real_roots\",real_roots)\n",
    "graph.add_node(\"repeated_roots\",repeated_roots)\n",
    "\n",
    "graph.add_edge(START,\"show_equation\")\n",
    "graph.add_edge(\"show_equation\",\"calculate_discriminant\")\n",
    "graph.add_conditional_edges(\"calculate_discriminant\",conditional_func,[\"real_roots\",\"repeated_roots\",\"non_real_roots\"])\n",
    "\n",
    "\n",
    "graph.add_edge(\"non_real_roots\", END) \n",
    "graph.add_edge(\"real_roots\", END)     \n",
    "graph.add_edge(\"repeated_roots\", END)\n",
    "\n",
    "workflow=graph.compile()"
   ]
  },
  {
   "cell_type": "code",
   "execution_count": 27,
   "id": "35f56980",
   "metadata": {},
   "outputs": [
    {
     "data": {
      "text/plain": [
       "{'a': 3,\n",
       " 'b': 5,\n",
       " 'c': 2,\n",
       " 'equation': '3x^2 + 5x + 2',\n",
       " 'd': 1,\n",
       " 'res1': -0.6666666666666666,\n",
       " 'res2': -1.0}"
      ]
     },
     "execution_count": 27,
     "metadata": {},
     "output_type": "execute_result"
    }
   ],
   "source": [
    "output_state=workflow.invoke({\"a\":3,\"b\":5,\"c\":2})\n",
    "output_state"
   ]
  },
  {
   "cell_type": "code",
   "execution_count": 26,
   "id": "261a39db",
   "metadata": {},
   "outputs": [
    {
     "data": {
      "image/png": "[encoded data removed]",
      "text/plain": [
       "<IPython.core.display.Image object>"
      ]
     },
     "execution_count": 26,
     "metadata": {},
     "output_type": "execute_result"
    }
   ],
   "source": [
    "Image(workflow.get_graph().draw_mermaid_png())"
   ]
  },
  {
   "cell_type": "code",
   "execution_count": null,
   "id": "a928ac63",
   "metadata": {},
   "outputs": [],
   "source": []
  }
 ],
 "metadata": {
  "kernelspec": {
   "display_name": "Python 3",
   "language": "python",
   "name": "python3"
  },
  "language_info": {
   "codemirror_mode": {
    "name": "ipython",
    "version": 3
   },
   "file_extension": ".py",
   "mimetype": "text/x-python",
   "name": "python",
   "nbconvert_exporter": "python",
   "pygments_lexer": "ipython3",
   "version": "3.12.0"
  }
 },
 "nbformat": 4,
 "nbformat_minor": 5
}
