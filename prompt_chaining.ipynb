{
 "cells": [
  {
   "cell_type": "code",
   "execution_count": 2,
   "id": "7e9e2230",
   "metadata": {},
   "outputs": [
    {
     "data": {
      "text/plain": [
       "True"
      ]
     },
     "execution_count": 2,
     "metadata": {},
     "output_type": "execute_result"
    }
   ],
   "source": [
    "from langchain_google_genai import ChatGoogleGenerativeAI\n",
    "from langgraph.graph import StateGraph,START,END\n",
    "from dotenv import load_dotenv\n",
    "from IPython.display import Image\n",
    "from typing import TypedDict\n",
    "load_dotenv()"
   ]
  },
  {
   "cell_type": "code",
   "execution_count": 3,
   "id": "dfecabee",
   "metadata": {},
   "outputs": [],
   "source": [
    "model=ChatGoogleGenerativeAI(model='gemini-2.5-pro',temperature=0.2)"
   ]
  },
  {
   "cell_type": "code",
   "execution_count": 16,
   "id": "dfdeb739",
   "metadata": {},
   "outputs": [],
   "source": [
    "class LLMState(TypedDict):\n",
    "    question:str\n",
    "    outline:str\n",
    "    blog:str"
   ]
  },
  {
   "cell_type": "code",
   "execution_count": 17,
   "id": "2eb14ba5",
   "metadata": {},
   "outputs": [],
   "source": [
    "graph=StateGraph(LLMState)"
   ]
  },
  {
   "cell_type": "code",
   "execution_count": 18,
   "id": "ff9116d5",
   "metadata": {},
   "outputs": [],
   "source": [
    "def outline_gen(state:LLMState)->LLMState:\n",
    "    question=state['question']\n",
    "    prompt=f\"Generate an outline for the given {question}\"\n",
    "    result=model.invoke(prompt).content\n",
    "    state['outline']=result\n",
    "    return state"
   ]
  },
  {
   "cell_type": "code",
   "execution_count": 19,
   "id": "e05e82ae",
   "metadata": {},
   "outputs": [],
   "source": [
    "def blog_gen(state:LLMState)->LLMState:\n",
    "    outline=state['outline']\n",
    "    prompt=f\"Generate a blog for the given {outline}\"\n",
    "    result=model.invoke(prompt).content\n",
    "    state['blog']=result\n",
    "    return state"
   ]
  },
  {
   "cell_type": "code",
   "execution_count": 20,
   "id": "017b91e3",
   "metadata": {},
   "outputs": [],
   "source": [
    "graph.add_node('gen_outline',outline_gen)\n",
    "graph.add_node('gen_blog',blog_gen)\n",
    "\n",
    "graph.add_edge(START,'gen_outline')\n",
    "graph.add_edge('gen_outline','gen_blog')\n",
    "graph.add_edge('gen_blog',END)\n",
    "workflow=graph.compile()"
   ]
  },
  {
   "cell_type": "code",
   "execution_count": 21,
   "id": "0c8ac9a8",
   "metadata": {},
   "outputs": [
    {
     "data": {
      "text/plain": [
       "{'question': 'AI',\n",
       " 'outline': 'Of course. Since \"the given AI\" is a placeholder, I have generated a comprehensive and adaptable outline template. You can use this structure to create a detailed report, presentation, or analysis for **any specific AI** you have in mind, such as GPT-4, Claude 3, Midjourney, a specific enterprise AI, or even a fictional one like HAL 9000.\\n\\nSimply replace the bracketed `[placeholders]` with your specific information.\\n\\n---\\n\\n### **Outline: An In-Depth Analysis of [AI Name]**\\n\\n**Thesis Statement:** This analysis will explore [AI Name], a revolutionary artificial intelligence developed by [Developer Name], by examining its core technology, principal applications, significant societal and ethical implications, and its potential future trajectory in the rapidly evolving field of AI.\\n\\n---\\n\\n**I. Introduction**\\n    A. **Hook:** Start with a compelling fact, statistic, or anecdote about the AI\\'s impact or capabilities.\\n    B. **Identification:**\\n        1.  Official Name: [AI Name]\\n        2.  Developer/Creator: [e.g., OpenAI, Google, Anthropic, a specific university]\\n        3.  Date of Initial Release / Key Versions: [e.g., GPT-4 released March 2023]\\n    C. **Core Purpose:** What is the primary goal or problem this AI was designed to solve? (e.g., natural language understanding, image generation, data analysis).\\n    D. **Thesis Statement:** Briefly state the main points that will be covered in the outline (technology, applications, impact, and future).\\n\\n**II. Core Technology and Architecture**\\n    A. **Foundational Model:**\\n        1.  Type of AI: [e.g., Large Language Model (LLM), Generative Adversarial Network (GAN), Diffusion Model, Reinforcement Learning Agent]\\n        2.  Underlying Architecture: [e.g., Transformer, Convolutional Neural Network (CNN)]\\n    B. **Training Data:**\\n        1.  Corpus Description: What kind of data was it trained on? [e.g., a mix of public web data, licensed books, code repositories, images]\\n        2.  Scale of Data: [e.g., Petabytes of data, trillions of tokens]\\n        3.  Data Curation and Filtering: Any known details about how the data was cleaned or prepared.\\n    C. **Key Technical Specifications:**\\n        1.  Model Size: [e.g., Number of parameters, if known (e.g., ~175 billion for GPT-3)]\\n        2.  Modalities: Is it text-only, or multimodal? [e.g., Text, Image, Audio, Video input/output]\\n        3.  Unique Features: [e.g., Attention mechanism, specific fine-tuning process like RLHF, context window size]\\n    D. **Computational Requirements:**\\n        1.  Hardware used for training/inference [e.g., GPUs, TPUs].\\n        2.  Energy consumption and environmental considerations.\\n\\n**III. Key Capabilities and Applications**\\n    A. **Primary Functions:**\\n        *   [e.g., Text Generation & Summarization]\\n        *   [e.g., Code Generation & Debugging]\\n        *   [e.g., Language Translation]\\n        *   [e.g., Image Creation from Prompts]\\n        *   [e.g., Data Analysis & Pattern Recognition]\\n        *   [e.g., Conversational Chat & Customer Support]\\n    B. **Major Use Cases and Case Studies:**\\n        1.  **Commercial/Enterprise:** How are businesses using it? [e.g., Content marketing, software development, customer service automation]\\n        2.  **Scientific/Academic:** Applications in research. [e.g., Drug discovery, climate modeling, historical analysis]\\n        3.  **Creative/Artistic:** Use in art, music, and writing. [e.g., Co-writing scripts, generating concept art]\\n        4.  **Personal/Consumer:** How individuals use it. [e.g., Homework help, trip planning, personal assistant]\\n    C. **Limitations and Weaknesses:**\\n        1.  \"Hallucinations\" / Factual Inaccuracy.\\n        2.  Inherent Biases from training data.\\n        3.  Lack of true consciousness or understanding.\\n        4.  Vulnerability to adversarial attacks or prompt injection.\\n        5.  Knowledge Cut-off Date [if applicable].\\n\\n**IV. Societal and Ethical Implications**\\n    A. **Positive Impacts (Opportunities):**\\n        1.  Economic: Increased productivity, creation of new job categories.\\n        2.  Educational: Democratization of knowledge and tutoring.\\n        3.  Accessibility: Tools for people with disabilities.\\n    B. **Negative Impacts and Challenges:**\\n        1.  Economic: Job displacement in certain sectors.\\n        2.  Ethical: Misinformation, deepfakes, and malicious use (e.g., spam, phishing).\\n        3.  Social: Algorithmic bias, reinforcing stereotypes, intellectual property/copyright disputes.\\n        4.  Privacy: Concerns over data collection and usage.\\n    C. **Regulatory and Governance Landscape:**\\n        1.  Current and proposed legislation [e.g., EU AI Act, US Executive Orders].\\n        2.  Developer\\'s own safety policies and alignment research.\\n\\n**V. Future Development and Competitive Landscape**\\n    A. **Official Roadmap:**\\n        1.  Announced next versions or features [e.g., GPT-5, improved multimodality].\\n        2.  Long-term vision of the developer [e.g., achieving Artificial General Intelligence (AGI)].\\n    B. **Competitive Analysis:**\\n        1.  Main Competitors: [e.g., If analyzing GPT-4, mention Claude 3, Gemini].\\n        2.  Key Differentiators: What makes [AI Name] stand out from its rivals?\\n    C. **Predicted Evolution:**\\n        1.  Integration with other technologies (e.g., robotics, IoT).\\n        2.  Potential for paradigm shifts in its capabilities.\\n\\n**VI. Conclusion**\\n    A. **Summary of Key Findings:** Briefly reiterate the AI\\'s core technology, most impactful applications, and a summary of its pros and cons.\\n    B. **Final Assessment:** Provide an overall evaluation of [AI Name]\\'s significance. Is it an incremental improvement or a revolutionary leap?\\n    C. **Concluding Thought:** End with a forward-looking statement about the AI\\'s enduring legacy or the central questions it raises for the future of humanity and technology.',\n",
       " 'blog': 'Of course! Here is a blog post generated from the excellent and comprehensive outline you provided. I\\'ve transformed the structured template into an engaging, readable article that explains how to use this framework to analyze any AI.\\n\\n---\\n\\n### **From GPT-4 to Midjourney: The Ultimate Blueprint for Understanding Any AI**\\n\\nThe world of artificial intelligence is moving at lightning speed. One week, we’re marveling at a new text-to-image generator; the next, a new large language model is released that shatters previous benchmarks. With names like Claude 3, Gemini, Llama 3, and Sora flying around, it’s easy to feel overwhelmed.\\n\\nHow can you cut through the hype and truly understand what a specific AI is, what it can do, and what its existence means for society?\\n\\nYou need a blueprint. A systematic way to deconstruct any AI, from a world-famous model to a niche enterprise tool. Based on a comprehensive analytical structure, we’ve created the only framework you’ll ever need. Whether you\\'re a student, a journalist, a business leader, or just a curious mind, use this guide to become a true AI analyst.\\n\\nLet\\'s break it down.\\n\\n---\\n\\n### **Part 1: The Introduction – Setting the Stage**\\n\\nBefore diving deep, you need to establish the fundamentals. The goal here is to frame the conversation and define exactly what you\\'re analyzing.\\n\\n*   **Hook & Identification:** Start with the basics. What is the AI\\'s official name? Who made it (e.g., OpenAI, Google, Anthropic)? When was it released? This grounds your analysis in verifiable facts.\\n*   **Core Purpose:** Ask the most important question: *Why does this AI exist?* Was it built to understand natural language, generate photorealistic images, analyze scientific data, or power a self-driving car?\\n*   **Thesis Statement:** Finally, state what you intend to explore. A good thesis might sound like: \"This analysis will explore GPT-4 by examining its core Transformer architecture, its diverse applications in coding and content creation, its profound ethical implications, and its position in the competitive AI landscape.\"\\n\\n### **Part 2: The Core Technology – Lifting the Hood**\\n\\nThis is where you get technical. You don’t need to be a computer scientist, but understanding the building blocks is crucial to appreciating an AI\\'s capabilities and limitations.\\n\\n*   **Foundational Model:** What *type* of AI is it? Is it a Large Language Model (LLM) based on the Transformer architecture? A Diffusion Model for creating images? A Generative Adversarial Network (GAN)?\\n*   **Training Data:** An AI is a reflection of its data. What was it trained on? The public internet? A curated library of books and articles? A proprietary dataset of images? The scale (petabytes of data, trillions of tokens) and curation of this data determine its knowledge, skills, and, importantly, its biases.\\n*   **Key Specs & Features:** Note its key technical details. How many parameters does it have (if known)? Is it multimodal (can it process text, images, and audio)? What is its context window (how much information can it \"remember\" in a conversation)? Does it use a special technique like Reinforcement Learning from Human Feedback (RLHF)?\\n\\n### **Part 3: Capabilities and Applications – What Can It Actually Do?**\\n\\nNow we move from theory to practice. This section documents the AI\\'s real-world impact and its tangible uses.\\n\\n*   **Primary Functions:** List its core abilities. Can it generate and summarize text, write and debug code, translate languages, create art, or analyze complex datasets?\\n*   **Major Use Cases:** Explore how different sectors are using it.\\n    *   **Commercial:** Content marketing, customer service bots, software development.\\n    *   **Scientific:** Drug discovery, climate modeling, research analysis.\\n    *   **Creative:** Co-writing scripts, generating concept art, composing music.\\n    *   **Personal:** Homework help, planning a trip, acting as a personal assistant.\\n*   **Limitations and Weaknesses:** No AI is perfect. It\\'s critical to identify its flaws. Does it \"hallucinate\" (make up facts)? Does it exhibit bias? Does it have a knowledge cut-off date? Is it vulnerable to prompt injection attacks?\\n\\n### **Part 4: Societal and Ethical Implications – The Bigger Picture**\\n\\nAn AI doesn\\'t exist in a vacuum. Its deployment has far-reaching consequences for society, and a thorough analysis must confront them head-on.\\n\\n*   **The Good (Opportunities):** How is this AI helping humanity? Think about increased productivity, the democratization of knowledge, and new accessibility tools for people with disabilities.\\n*   **The Bad (Challenges):** What are the risks? This includes job displacement, the potential for generating misinformation and deepfakes, reinforcing societal biases, and raising major questions about data privacy and copyright.\\n*   **Governance:** How are we managing these risks? Look into existing or proposed regulations like the EU AI Act, as well as the developer\\'s own safety policies and alignment research.\\n\\n### **Part 5: The Future – What\\'s Next?**\\n\\nThe AI landscape is constantly changing. A good analysis looks not only at the present but also at the road ahead.\\n\\n*   **Official Roadmap:** What has the developer announced for the future? Are they planning a next-generation model (like a potential GPT-5)? Are they aiming for the long-term goal of Artificial General Intelligence (AGI)?\\n*   **Competitive Landscape:** Who are the main rivals? If you\\'re analyzing Google\\'s Gemini, you must compare it to OpenAI\\'s GPT-4 and Anthropic\\'s Claude 3. What makes your chosen AI stand out? Is it faster, more creative, more accurate, or safer?\\n*   **Predicted Evolution:** How might this technology evolve? Consider its potential integration with other fields like robotics, the Internet of Things (IoT), or personalized medicine.\\n\\n### **Part 6: The Conclusion – Tying It All Together**\\n\\nFinally, bring it all home. Your conclusion should summarize your findings and offer a final, powerful assessment.\\n\\n*   **Summarize Key Findings:** Briefly recap the AI\\'s technology, its most important applications, and the core ethical debate surrounding it.\\n*   **Final Assessment:** Offer your overall evaluation. Is this AI an incremental improvement over previous versions, or is it a revolutionary leap forward that changes the game entirely?\\n*   **Concluding Thought:** End with a forward-looking statement. What is this AI\\'s potential legacy? What fundamental questions does it force us to ask about the future of technology and humanity?\\n\\n---\\n\\n### **Your Turn to Be the Analyst**\\n\\nThis blueprint is more than just a checklist; it\\'s a powerful tool for critical thinking. Pick an AI you\\'re curious about, open a document, and use these sections as your guide. By the time you\\'re done, you won\\'t just be a passive consumer of AI news—you\\'ll be an informed and insightful analyst, capable of navigating the most important technological revolution of our time.'}"
      ]
     },
     "execution_count": 21,
     "metadata": {},
     "output_type": "execute_result"
    }
   ],
   "source": [
    "output_state=workflow.invoke({'question':'AI'})\n",
    "output_state"
   ]
  },
  {
   "cell_type": "code",
   "execution_count": 22,
   "id": "23891c61",
   "metadata": {},
   "outputs": [
    {
     "data": {
      "image/png": "[encoded data removed]",
      "text/plain": [
       "<IPython.core.display.Image object>"
      ]
     },
     "execution_count": 22,
     "metadata": {},
     "output_type": "execute_result"
    }
   ],
   "source": [
    "Image(workflow.get_graph().draw_mermaid_png())"
   ]
  },
  {
   "cell_type": "code",
   "execution_count": null,
   "id": "ac644875",
   "metadata": {},
   "outputs": [],
   "source": []
  }
 ],
 "metadata": {
  "kernelspec": {
   "display_name": "Python 3",
   "language": "python",
   "name": "python3"
  },
  "language_info": {
   "codemirror_mode": {
    "name": "ipython",
    "version": 3
   },
   "file_extension": ".py",
   "mimetype": "text/x-python",
   "name": "python",
   "nbconvert_exporter": "python",
   "pygments_lexer": "ipython3",
   "version": "3.12.0"
  }
 },
 "nbformat": 4,
 "nbformat_minor": 5
}
