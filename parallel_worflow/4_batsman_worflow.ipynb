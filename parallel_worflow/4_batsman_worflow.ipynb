{
 "cells": [
  {
   "cell_type": "code",
   "execution_count": 24,
   "id": "49f6f228",
   "metadata": {},
   "outputs": [],
   "source": [
    "from langgraph.graph import StateGraph,START,END\n",
    "from typing import TypedDict\n",
    "from IPython.display import Image"
   ]
  },
  {
   "cell_type": "code",
   "execution_count": 14,
   "id": "de26d7b8",
   "metadata": {},
   "outputs": [],
   "source": [
    "class LLMState(TypedDict):\n",
    "    runs:int\n",
    "    balls:int\n",
    "    fours:int\n",
    "    sixs:int\n",
    "    strike_rate:float\n",
    "    boundary_percent:float\n",
    "    balls_per_boundary:float\n",
    "    summary:str"
   ]
  },
  {
   "cell_type": "code",
   "execution_count": 42,
   "id": "c6e46a50",
   "metadata": {},
   "outputs": [],
   "source": [
    "graph=StateGraph(LLMState)"
   ]
  },
  {
   "cell_type": "code",
   "execution_count": 38,
   "id": "96be08b8",
   "metadata": {},
   "outputs": [],
   "source": [
    "def calculate_sr(state:LLMState)->LLMState:\n",
    "    state['strike_rate']=(state['runs']/state['balls'])*100\n",
    "    return {'strike_rate':state['strike_rate']}"
   ]
  },
  {
   "cell_type": "code",
   "execution_count": 39,
   "id": "45a39a5f",
   "metadata": {},
   "outputs": [],
   "source": [
    "def calculate_bp(state:LLMState)->LLMState:\n",
    "    state['boundary_percent']=((4*state['fours'] + 6*state['sixs'])/state['runs']) * 100\n",
    "    return {'boundary_percent':state['boundary_percent']}"
   ]
  },
  {
   "cell_type": "code",
   "execution_count": 40,
   "id": "2cc64f5a",
   "metadata": {},
   "outputs": [],
   "source": [
    "def calculate_bpb(state:LLMState)->LLMState:\n",
    "    state['balls_per_boundary']= state['balls'] / (state['fours']+ state['sixs'])\n",
    "    return {'balls_per_boundary':state['balls_per_boundary']}"
   ]
  },
  {
   "cell_type": "code",
   "execution_count": 41,
   "id": "e449dc0d",
   "metadata": {},
   "outputs": [],
   "source": [
    "def generate_summary(state:LLMState)->LLMState:\n",
    "    summary=f\"\"\"\n",
    "        Strike Rate : {state['strike_rate']}\\n\n",
    "        Balls Per Boundary : {state['balls_per_boundary']} \\n\n",
    "        Boundary Percent : {state['boundary_percent']} \\n \n",
    "    \"\"\"\n",
    "    state['summary']=summary\n",
    "    return state"
   ]
  },
  {
   "cell_type": "code",
   "execution_count": 43,
   "id": "bd69a070",
   "metadata": {},
   "outputs": [],
   "source": [
    "graph.add_node('strike_rate',calculate_sr)\n",
    "graph.add_node('boundary_percent',calculate_bp)\n",
    "graph.add_node('balls_per_boundary',calculate_bpb)\n",
    "graph.add_node('summary',generate_summary)\n",
    "\n",
    "graph.add_edge(START,'strike_rate')\n",
    "graph.add_edge(START,'boundary_percent')\n",
    "graph.add_edge(START,'balls_per_boundary')\n",
    "\n",
    "graph.add_edge('strike_rate','summary')\n",
    "graph.add_edge('boundary_percent','summary')\n",
    "graph.add_edge('balls_per_boundary','summary')\n",
    "\n",
    "graph.add_edge('summary',END)\n",
    "\n",
    "workflow=graph.compile()"
   ]
  },
  {
   "cell_type": "code",
   "execution_count": 44,
   "id": "aec7b676",
   "metadata": {},
   "outputs": [
    {
     "name": "stdout",
     "output_type": "stream",
     "text": [
      "{'runs': 100, 'balls': 45, 'fours': 10, 'sixs': 5, 'strike_rate': 222.22222222222223, 'boundary_percent': 70.0, 'balls_per_boundary': 3.0, 'summary': '\\n        Strike Rate : 222.22222222222223\\n\\n        Balls Per Boundary : 3.0 \\n\\n        Boundary Percent : 70.0 \\n \\n    '}\n"
     ]
    }
   ],
   "source": [
    "output_state=workflow.invoke({'runs':100, 'balls':45, 'fours':10, 'sixs':5})\n",
    "print(output_state)"
   ]
  },
  {
   "cell_type": "code",
   "execution_count": 45,
   "id": "142c3032",
   "metadata": {},
   "outputs": [
    {
     "data": {
      "image/png": "[encoded data removed]",
      "text/plain": [
       "<IPython.core.display.Image object>"
      ]
     },
     "execution_count": 45,
     "metadata": {},
     "output_type": "execute_result"
    }
   ],
   "source": [
    "Image(workflow.get_graph().draw_mermaid_png())"
   ]
  },
  {
   "cell_type": "code",
   "execution_count": null,
   "id": "124e6104",
   "metadata": {},
   "outputs": [],
   "source": []
  }
 ],
 "metadata": {
  "kernelspec": {
   "display_name": "Python 3",
   "language": "python",
   "name": "python3"
  },
  "language_info": {
   "codemirror_mode": {
    "name": "ipython",
    "version": 3
   },
   "file_extension": ".py",
   "mimetype": "text/x-python",
   "name": "python",
   "nbconvert_exporter": "python",
   "pygments_lexer": "ipython3",
   "version": "3.12.0"
  }
 },
 "nbformat": 4,
 "nbformat_minor": 5
}
