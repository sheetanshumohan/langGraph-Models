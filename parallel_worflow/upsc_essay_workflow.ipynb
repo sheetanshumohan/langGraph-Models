{
 "cells": [
  {
   "cell_type": "code",
   "execution_count": 34,
   "id": "3458ce51",
   "metadata": {},
   "outputs": [
    {
     "data": {
      "text/plain": [
       "True"
      ]
     },
     "execution_count": 34,
     "metadata": {},
     "output_type": "execute_result"
    }
   ],
   "source": [
    "from langgraph.graph import StateGraph,START,END\n",
    "from langchain_google_genai import ChatGoogleGenerativeAI\n",
    "from typing import TypedDict,Annotated\n",
    "from pydantic import BaseModel,Field\n",
    "import operator\n",
    "from IPython.display import Image\n",
    "from dotenv import load_dotenv\n",
    "load_dotenv()"
   ]
  },
  {
   "cell_type": "code",
   "execution_count": 24,
   "id": "d494acea",
   "metadata": {},
   "outputs": [],
   "source": [
    "class EvaluationSchema(BaseModel):\n",
    "    feedback:str=Field(description='Detailed feedback of the essay')\n",
    "    score:int=Field(description='Score out of 10',ge=0,le=10)"
   ]
  },
  {
   "cell_type": "code",
   "execution_count": 25,
   "id": "3dc9360b",
   "metadata": {},
   "outputs": [],
   "source": [
    "model=ChatGoogleGenerativeAI(model='gemini-2.5-pro',temperature=0.2)\n",
    "structured_model=model.with_structured_output(EvaluationSchema)"
   ]
  },
  {
   "cell_type": "code",
   "execution_count": 26,
   "id": "f4f52592",
   "metadata": {},
   "outputs": [],
   "source": [
    "essay=\"\"\"Introduction\n",
    "“A nation's greatness persists not in its power over people, but in its power over ideas.” The 21st century heralds a shift—not toward territorial dominion, but intellectual influence. “The empires of the future will be the empires of the mind,” observed Winston Churchill, more prescient than prophetic. In an age of digital connectivity, artificial intelligence, and global knowledge flows, the might of armies is being overshadowed by the power of innovation, culture, and ideas.\n",
    "\n",
    "Body Paragraph - Defining Mind-Based Empires\n",
    "Historically, empires thrived by expanding their borders, controlling resources, and imposing governance systems. In contrast, mind-based empires derive influence not through coercion, but through persuasion. They shape thought processes, dictate narratives, and set benchmarks in technology, science, art, and governance. The reach of Google's search engine, Netflix's cultural productions, or Oxford's academic credibility is far more enduring than any military conquest.\n",
    "\n",
    "Body Paragraph - India's Opportunity\n",
    "India stands at a unique juncture. With its demographic dividend, thriving IT sector, and millennia-old cultural heritage, it possesses the raw material for building a mind-based empire. Initiatives like Digital India, Startup India, and the National Education Policy aim to harness this potential. However, to translate these into global influence, India must bridge the digital divide, nurture critical thinking, and promote its cultural narratives beyond mere symbolism.\n",
    "\n",
    "Conclusion\n",
    "In the emerging global order, the contest is not for territory, but for mindshare. Nations that can innovate, educate, and inspire will dominate. For India, the challenge lies in moving beyond being a service provider to becoming a thought leader. If we invest in the intellectual empowerment of our citizens and amplify our cultural and technological presence, we can indeed shape an empire of the mind—an empire built not on conquest, but on ideas.\"\"\""
   ]
  },
  {
   "cell_type": "code",
   "execution_count": 38,
   "id": "6176e03e",
   "metadata": {},
   "outputs": [],
   "source": [
    "class UPSCState(TypedDict):\n",
    "    essay:str\n",
    "    coa_feedback:str\n",
    "    doa_feedback:str\n",
    "    lang_feedback:str\n",
    "    overall_feedback:str\n",
    "    scores:Annotated[list[int],operator.add]\n",
    "    avg_score:float"
   ]
  },
  {
   "cell_type": "code",
   "execution_count": 39,
   "id": "ee5e48af",
   "metadata": {},
   "outputs": [],
   "source": [
    "def coa(state:UPSCState)->UPSCState:\n",
    "    prompt=f'Evaluate the clarity of thought of the following essay and provide a feedback and assign a score out of 10\\n {state['essay']}'\n",
    "    results=structured_model.invoke(prompt)\n",
    "    return {'coa_feedback':results.feedback , 'scores':[results.score]}\n",
    "\n",
    "def doa(state:UPSCState)->UPSCState:\n",
    "    prompt=f'Evaluate the depth of analysis of the following essay and provide a feedback and assign a score out of 10\\n {state['essay']}'\n",
    "    results=structured_model.invoke(prompt)\n",
    "    return {'doa_feedback':results.feedback , 'scores':[results.score]}\n",
    "\n",
    "def language(state:UPSCState)->UPSCState:\n",
    "    prompt=f'Evaluate the language quality of the following essay and provide a feedback and assign a score out of 10\\n {state['essay']}'\n",
    "    results=structured_model.invoke(prompt)\n",
    "    return {'lang_feedback':results.feedback , 'scores':[results.score]}\n",
    "\n",
    "def final_evaluation(state:UPSCState)->UPSCState:\n",
    "    prompt=f\"\"\"Evaluate on the following feedbacks create a summarized feedback \\n language feedback: - {state['lang_feedback']} \\n clarity of thought feedback : {state['coa_feedback']} \\n depth of analysis feedback: {state['doa_feedback']} \"\"\"\n",
    "    results=model.invoke(prompt)\n",
    "    return {'overall_feedback':results.content, 'avg_score':sum(state['scores'])/len(state['scores'])}"
   ]
  },
  {
   "cell_type": "code",
   "execution_count": 40,
   "id": "2da77988",
   "metadata": {},
   "outputs": [],
   "source": [
    "graph=StateGraph(UPSCState)\n",
    "graph.add_node('coa',coa)\n",
    "graph.add_node('doa',doa)\n",
    "graph.add_node('language',language)\n",
    "graph.add_node('final_evaluation',final_evaluation)\n",
    "\n",
    "graph.add_edge(START,'coa')\n",
    "graph.add_edge(START,'doa')\n",
    "graph.add_edge(START,'language')\n",
    "\n",
    "graph.add_edge('coa','final_evaluation')\n",
    "graph.add_edge('doa','final_evaluation')\n",
    "graph.add_edge('language','final_evaluation')\n",
    "\n",
    "graph.add_edge('final_evaluation',END)\n",
    "\n",
    "workflow=graph.compile()"
   ]
  },
  {
   "cell_type": "code",
   "execution_count": 42,
   "id": "95db9fba",
   "metadata": {},
   "outputs": [
    {
     "data": {
      "text/plain": [
       "{'essay': \"Introduction\\n“A nation's greatness persists not in its power over people, but in its power over ideas.” The 21st century heralds a shift—not toward territorial dominion, but intellectual influence. “The empires of the future will be the empires of the mind,” observed Winston Churchill, more prescient than prophetic. In an age of digital connectivity, artificial intelligence, and global knowledge flows, the might of armies is being overshadowed by the power of innovation, culture, and ideas.\\n\\nBody Paragraph - Defining Mind-Based Empires\\nHistorically, empires thrived by expanding their borders, controlling resources, and imposing governance systems. In contrast, mind-based empires derive influence not through coercion, but through persuasion. They shape thought processes, dictate narratives, and set benchmarks in technology, science, art, and governance. The reach of Google's search engine, Netflix's cultural productions, or Oxford's academic credibility is far more enduring than any military conquest.\\n\\nBody Paragraph - India's Opportunity\\nIndia stands at a unique juncture. With its demographic dividend, thriving IT sector, and millennia-old cultural heritage, it possesses the raw material for building a mind-based empire. Initiatives like Digital India, Startup India, and the National Education Policy aim to harness this potential. However, to translate these into global influence, India must bridge the digital divide, nurture critical thinking, and promote its cultural narratives beyond mere symbolism.\\n\\nConclusion\\nIn the emerging global order, the contest is not for territory, but for mindshare. Nations that can innovate, educate, and inspire will dominate. For India, the challenge lies in moving beyond being a service provider to becoming a thought leader. If we invest in the intellectual empowerment of our citizens and amplify our cultural and technological presence, we can indeed shape an empire of the mind—an empire built not on conquest, but on ideas.\",\n",
       " 'coa_feedback': \"The essay demonstrates exceptional clarity of thought. The structure is logical, starting with a strong, engaging introduction that defines the central theme of 'empires of the mind'. It then seamlessly transitions into defining this concept with modern, relevant examples, contrasting it effectively with historical empires. The application of this concept to India is well-argued, identifying both the nation's potential and the challenges it faces. The conclusion is concise and powerful, summarizing the main points and leaving the reader with a clear understanding of the essay's thesis. The arguments are coherent, well-supported, and flow logically from one paragraph to the next, making the author's perspective easy to follow and understand.\",\n",
       " 'doa_feedback': 'The essay presents a clear and compelling argument, effectively defining the concept of \"mind-based empires\" and applying it to the Indian context. The structure is logical, with a strong introduction that sets the stage, body paragraphs that develop the argument with relevant examples (Google, Netflix), and a concise conclusion that summarizes the key points. The analysis is insightful, particularly in identifying both the opportunities and challenges for India.\\n\\nTo enhance the depth of analysis further, the essay could have explored potential counterarguments, such as the risks of cultural homogenization or the challenges of competing with established \"mind-based empires.\" Additionally, providing more specific examples or data on how India can transition from a service provider to a thought leader would have strengthened the argument.\\n\\nOverall, it is a well-written and thought-provoking piece.',\n",
       " 'lang_feedback': \"The essay is well-written and effectively argues its central thesis. The introduction is strong and engaging, and the body paragraphs provide clear and concise supporting arguments. The conclusion effectively summarizes the main points and leaves the reader with a thought-provoking final statement. The language is sophisticated and the overall structure is logical and easy to follow. To improve, the essay could benefit from more specific examples in the body paragraphs to further illustrate the points being made. Additionally, exploring potential counterarguments or challenges to the rise of 'mind-based empires' could add more depth to the analysis.\",\n",
       " 'overall_feedback': 'Of course. Here is a summarized feedback based on the three evaluations provided:\\n\\n### Summarized Feedback\\n\\nThis is an exceptionally well-written and thought-provoking essay that is consistently praised for its **exceptional clarity, logical structure, and sophisticated language**. The argument is compelling, with a strong introduction that effectively defines the concept of \"mind-based empires\" and a powerful conclusion that summarizes the thesis. The analysis is insightful, particularly in its application of the concept to the Indian context.\\n\\nTo elevate the essay to an even higher level, the feedback consistently points to two key areas for improvement:\\n\\n1.  **Incorporate Counterarguments:** To add more depth, consider exploring the potential challenges, risks, or counterarguments to the rise of \"mind-based empires.\" This could include discussing the dangers of cultural homogenization or the difficulties of competing with established global players.\\n2.  **Provide More Specific Examples:** While the current examples are effective, the argument would be significantly strengthened by including more specific data, case studies, or detailed examples to illustrate key points, especially regarding how India can transition from a service provider to a thought leader.\\n\\nOverall, this is a high-quality piece of work. By addressing these two suggestions, the analysis can become even more nuanced and persuasive.',\n",
       " 'scores': [9, 8, 8],\n",
       " 'avg_score': 8.333333333333334}"
      ]
     },
     "execution_count": 42,
     "metadata": {},
     "output_type": "execute_result"
    }
   ],
   "source": [
    "results=workflow.invoke({'essay':essay})\n",
    "results"
   ]
  },
  {
   "cell_type": "code",
   "execution_count": 41,
   "id": "d7828e85",
   "metadata": {},
   "outputs": [
    {
     "data": {
      "image/png": "[encoded data removed]",
      "text/plain": [
       "<IPython.core.display.Image object>"
      ]
     },
     "execution_count": 41,
     "metadata": {},
     "output_type": "execute_result"
    }
   ],
   "source": [
    "Image(workflow.get_graph().draw_mermaid_png())"
   ]
  },
  {
   "cell_type": "code",
   "execution_count": null,
   "id": "41061baf",
   "metadata": {},
   "outputs": [],
   "source": []
  }
 ],
 "metadata": {
  "kernelspec": {
   "display_name": "Python 3",
   "language": "python",
   "name": "python3"
  },
  "language_info": {
   "codemirror_mode": {
    "name": "ipython",
    "version": 3
   },
   "file_extension": ".py",
   "mimetype": "text/x-python",
   "name": "python",
   "nbconvert_exporter": "python",
   "pygments_lexer": "ipython3",
   "version": "3.12.0"
  }
 },
 "nbformat": 4,
 "nbformat_minor": 5
}
