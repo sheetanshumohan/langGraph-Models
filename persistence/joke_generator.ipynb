{
 "cells": [
  {
   "cell_type": "code",
   "execution_count": 14,
   "id": "1f40a880",
   "metadata": {},
   "outputs": [
    {
     "data": {
      "text/plain": [
       "True"
      ]
     },
     "execution_count": 14,
     "metadata": {},
     "output_type": "execute_result"
    }
   ],
   "source": [
    "from langgraph.graph import StateGraph,START,END\n",
    "from typing import TypedDict\n",
    "from langchain_google_genai import ChatGoogleGenerativeAI\n",
    "from dotenv import load_dotenv\n",
    "from langgraph.checkpoint.memory import InMemorySaver\n",
    "from IPython.display import Image\n",
    "load_dotenv()"
   ]
  },
  {
   "cell_type": "code",
   "execution_count": 5,
   "id": "903aa045",
   "metadata": {},
   "outputs": [],
   "source": [
    "class JokeState(TypedDict):\n",
    "    topic:str\n",
    "    joke:str\n",
    "    explanation:str"
   ]
  },
  {
   "cell_type": "code",
   "execution_count": 20,
   "id": "9b3be809",
   "metadata": {},
   "outputs": [],
   "source": [
    "graph=StateGraph(JokeState)\n",
    "model=ChatGoogleGenerativeAI(model='gemini-2.5-pro',temperature=0.2)"
   ]
  },
  {
   "cell_type": "code",
   "execution_count": 21,
   "id": "1cdee322",
   "metadata": {},
   "outputs": [],
   "source": [
    "def joke_generator(state:JokeState):\n",
    "    prompt=f\"Generate a joke on the given topic\\n{state['topic']}\"\n",
    "    results=model.invoke(prompt)\n",
    "    return {'joke':results.content}"
   ]
  },
  {
   "cell_type": "code",
   "execution_count": 22,
   "id": "659fbfc6",
   "metadata": {},
   "outputs": [],
   "source": [
    "def joke_explanation(state:JokeState):\n",
    "    prompt=f\"Explain the given joke\\n{state['joke']}\"\n",
    "    results=model.invoke(prompt)\n",
    "    return {'explanation':results.content}"
   ]
  },
  {
   "cell_type": "code",
   "execution_count": 23,
   "id": "f4e7b9ae",
   "metadata": {},
   "outputs": [],
   "source": [
    "graph.add_node(\"generate_joke\",joke_generator)\n",
    "graph.add_node(\"explanator_joke\",joke_explanation)\n",
    "\n",
    "\n",
    "graph.add_edge(START,\"generate_joke\")\n",
    "graph.add_edge(\"generate_joke\",\"explanator_joke\")\n",
    "graph.add_edge(\"explanator_joke\",END)\n",
    "\n",
    "checkpointer=InMemorySaver()\n",
    "\n",
    "workflow=graph.compile(checkpointer=checkpointer)"
   ]
  },
  {
   "cell_type": "code",
   "execution_count": 36,
   "id": "99d65cbc",
   "metadata": {},
   "outputs": [
    {
     "data": {
      "text/plain": [
       "{'topic': 'maggie',\n",
       " 'joke': \"Why is Maggie so bad at telling the truth?\\n\\nBecause it claims it'll be ready in 2 minutes, but we all know that's a hot, steaming lie.\",\n",
       " 'explanation': 'Of course! Here\\'s a breakdown of the joke.\\n\\nThe humor comes from a clever play on words and a shared, common experience related to a specific product.\\n\\n### The Key Elements Explained:\\n\\n1.  **\"Maggie\" is not a person:** The joke sets you up to think of a person named Maggie. However, it\\'s referring to **Maggi**, a very popular brand of instant noodles, especially in India and other parts of the world.\\n\\n2.  **The \"2-Minute\" Claim:** Maggi noodle packets famously advertise that they can be cooked and ready to eat in just \"2 minutes.\"\\n\\n3.  **The \"Hot, Steaming Lie\":** This is the core of the punchline and works on two levels (it\\'s a pun):\\n    *   **The Lie:** Anyone who has actually made Maggi noodles knows it takes longer than two minutes. You have to boil the water, add the noodles and seasoning, and let it cook. The \"2-minute\" claim is a well-known exaggeration, or a \"lie.\"\\n    *   **The Pun:** The phrase \"hot, steaming\" perfectly describes how the noodles are served—hot and steaming from the pot. So, the \"lie\" (the 2-minute claim) is being described in the same way as the food itself.\\n\\n### In short:\\n\\nThe joke personifies the Maggi noodle brand as a liar because its \"2-minute\" cooking time is famously inaccurate. The punchline is a pun, using \"hot, steaming\" to describe both the lie and the actual plate of noodles.'}"
      ]
     },
     "execution_count": 36,
     "metadata": {},
     "output_type": "execute_result"
    }
   ],
   "source": [
    "config={\"configurable\":{\"thread_id\":\"3\"}}\n",
    "output_state=workflow.invoke({'topic':'maggie'},config=config)\n",
    "output_state"
   ]
  },
  {
   "cell_type": "code",
   "execution_count": 41,
   "id": "920d3274",
   "metadata": {},
   "outputs": [
    {
     "data": {
      "text/plain": [
       "StateSnapshot(values={'topic': 'maggie', 'joke': \"Why is Maggie so bad at telling the truth?\\n\\nBecause it claims it'll be ready in 2 minutes, but we all know that's a hot, steaming lie.\", 'explanation': 'Of course! Here\\'s a breakdown of the joke.\\n\\nThe humor comes from a clever play on words and a shared, common experience related to a specific product.\\n\\n### The Key Elements Explained:\\n\\n1.  **\"Maggie\" is not a person:** The joke sets you up to think of a person named Maggie. However, it\\'s referring to **Maggi**, a very popular brand of instant noodles, especially in India and other parts of the world.\\n\\n2.  **The \"2-Minute\" Claim:** Maggi noodle packets famously advertise that they can be cooked and ready to eat in just \"2 minutes.\"\\n\\n3.  **The \"Hot, Steaming Lie\":** This is the core of the punchline and works on two levels (it\\'s a pun):\\n    *   **The Lie:** Anyone who has actually made Maggi noodles knows it takes longer than two minutes. You have to boil the water, add the noodles and seasoning, and let it cook. The \"2-minute\" claim is a well-known exaggeration, or a \"lie.\"\\n    *   **The Pun:** The phrase \"hot, steaming\" perfectly describes how the noodles are served—hot and steaming from the pot. So, the \"lie\" (the 2-minute claim) is being described in the same way as the food itself.\\n\\n### In short:\\n\\nThe joke personifies the Maggi noodle brand as a liar because its \"2-minute\" cooking time is famously inaccurate. The punchline is a pun, using \"hot, steaming\" to describe both the lie and the actual plate of noodles.'}, next=(), config={'configurable': {'thread_id': '3', 'checkpoint_ns': '', 'checkpoint_id': '1f07a580-4538-6422-8002-e9b0bf44c912'}}, metadata={'source': 'loop', 'step': 2, 'parents': {}}, created_at='2025-08-16T04:18:09.677827+00:00', parent_config={'configurable': {'thread_id': '3', 'checkpoint_ns': '', 'checkpoint_id': '1f07a57f-c816-622f-8001-29da2b3ff401'}}, tasks=(), interrupts=())"
      ]
     },
     "execution_count": 41,
     "metadata": {},
     "output_type": "execute_result"
    }
   ],
   "source": [
    "config={\"configurable\":{\"thread_id\":\"3\"}}\n",
    "workflow.get_state(config)"
   ]
  },
  {
   "cell_type": "code",
   "execution_count": 42,
   "id": "7a5a0e65",
   "metadata": {},
   "outputs": [
    {
     "data": {
      "text/plain": [
       "[StateSnapshot(values={'topic': 'maggie', 'joke': \"Why is Maggie so bad at telling the truth?\\n\\nBecause it claims it'll be ready in 2 minutes, but we all know that's a hot, steaming lie.\", 'explanation': 'Of course! Here\\'s a breakdown of the joke.\\n\\nThe humor comes from a clever play on words and a shared, common experience related to a specific product.\\n\\n### The Key Elements Explained:\\n\\n1.  **\"Maggie\" is not a person:** The joke sets you up to think of a person named Maggie. However, it\\'s referring to **Maggi**, a very popular brand of instant noodles, especially in India and other parts of the world.\\n\\n2.  **The \"2-Minute\" Claim:** Maggi noodle packets famously advertise that they can be cooked and ready to eat in just \"2 minutes.\"\\n\\n3.  **The \"Hot, Steaming Lie\":** This is the core of the punchline and works on two levels (it\\'s a pun):\\n    *   **The Lie:** Anyone who has actually made Maggi noodles knows it takes longer than two minutes. You have to boil the water, add the noodles and seasoning, and let it cook. The \"2-minute\" claim is a well-known exaggeration, or a \"lie.\"\\n    *   **The Pun:** The phrase \"hot, steaming\" perfectly describes how the noodles are served—hot and steaming from the pot. So, the \"lie\" (the 2-minute claim) is being described in the same way as the food itself.\\n\\n### In short:\\n\\nThe joke personifies the Maggi noodle brand as a liar because its \"2-minute\" cooking time is famously inaccurate. The punchline is a pun, using \"hot, steaming\" to describe both the lie and the actual plate of noodles.'}, next=(), config={'configurable': {'thread_id': '3', 'checkpoint_ns': '', 'checkpoint_id': '1f07a580-4538-6422-8002-e9b0bf44c912'}}, metadata={'source': 'loop', 'step': 2, 'parents': {}}, created_at='2025-08-16T04:18:09.677827+00:00', parent_config={'configurable': {'thread_id': '3', 'checkpoint_ns': '', 'checkpoint_id': '1f07a57f-c816-622f-8001-29da2b3ff401'}}, tasks=(), interrupts=()),\n",
       " StateSnapshot(values={'topic': 'maggie', 'joke': \"Why is Maggie so bad at telling the truth?\\n\\nBecause it claims it'll be ready in 2 minutes, but we all know that's a hot, steaming lie.\"}, next=('explanator_joke',), config={'configurable': {'thread_id': '3', 'checkpoint_ns': '', 'checkpoint_id': '1f07a57f-c816-622f-8001-29da2b3ff401'}}, metadata={'source': 'loop', 'step': 1, 'parents': {}}, created_at='2025-08-16T04:17:56.556651+00:00', parent_config={'configurable': {'thread_id': '3', 'checkpoint_ns': '', 'checkpoint_id': '1f07a57f-35a0-6d82-8000-9bfaf15a972a'}}, tasks=(PregelTask(id='c90e4cea-abed-60c9-9415-2069967e32bd', name='explanator_joke', path=('__pregel_pull', 'explanator_joke'), error=None, interrupts=(), state=None, result={'explanation': 'Of course! Here\\'s a breakdown of the joke.\\n\\nThe humor comes from a clever play on words and a shared, common experience related to a specific product.\\n\\n### The Key Elements Explained:\\n\\n1.  **\"Maggie\" is not a person:** The joke sets you up to think of a person named Maggie. However, it\\'s referring to **Maggi**, a very popular brand of instant noodles, especially in India and other parts of the world.\\n\\n2.  **The \"2-Minute\" Claim:** Maggi noodle packets famously advertise that they can be cooked and ready to eat in just \"2 minutes.\"\\n\\n3.  **The \"Hot, Steaming Lie\":** This is the core of the punchline and works on two levels (it\\'s a pun):\\n    *   **The Lie:** Anyone who has actually made Maggi noodles knows it takes longer than two minutes. You have to boil the water, add the noodles and seasoning, and let it cook. The \"2-minute\" claim is a well-known exaggeration, or a \"lie.\"\\n    *   **The Pun:** The phrase \"hot, steaming\" perfectly describes how the noodles are served—hot and steaming from the pot. So, the \"lie\" (the 2-minute claim) is being described in the same way as the food itself.\\n\\n### In short:\\n\\nThe joke personifies the Maggi noodle brand as a liar because its \"2-minute\" cooking time is famously inaccurate. The punchline is a pun, using \"hot, steaming\" to describe both the lie and the actual plate of noodles.'}),), interrupts=()),\n",
       " StateSnapshot(values={'topic': 'maggie'}, next=('generate_joke',), config={'configurable': {'thread_id': '3', 'checkpoint_ns': '', 'checkpoint_id': '1f07a57f-35a0-6d82-8000-9bfaf15a972a'}}, metadata={'source': 'loop', 'step': 0, 'parents': {}}, created_at='2025-08-16T04:17:41.199398+00:00', parent_config={'configurable': {'thread_id': '3', 'checkpoint_ns': '', 'checkpoint_id': '1f07a57f-35a0-6d81-bfff-b5baaabb1252'}}, tasks=(PregelTask(id='7267ceac-ed99-7306-4f74-420fb6d012b9', name='generate_joke', path=('__pregel_pull', 'generate_joke'), error=None, interrupts=(), state=None, result={'joke': \"Why is Maggie so bad at telling the truth?\\n\\nBecause it claims it'll be ready in 2 minutes, but we all know that's a hot, steaming lie.\"}),), interrupts=()),\n",
       " StateSnapshot(values={}, next=('__start__',), config={'configurable': {'thread_id': '3', 'checkpoint_ns': '', 'checkpoint_id': '1f07a57f-35a0-6d81-bfff-b5baaabb1252'}}, metadata={'source': 'input', 'step': -1, 'parents': {}}, created_at='2025-08-16T04:17:41.199398+00:00', parent_config=None, tasks=(PregelTask(id='08e50018-bad4-1359-6a00-ad4dd5afbf8b', name='__start__', path=('__pregel_pull', '__start__'), error=None, interrupts=(), state=None, result={'topic': 'maggie'}),), interrupts=())]"
      ]
     },
     "execution_count": 42,
     "metadata": {},
     "output_type": "execute_result"
    }
   ],
   "source": [
    "list(workflow.get_state_history(config))"
   ]
  },
  {
   "cell_type": "code",
   "execution_count": 15,
   "id": "567a5987",
   "metadata": {},
   "outputs": [
    {
     "data": {
      "image/png": "[encoded data removed]",
      "text/plain": [
       "<IPython.core.display.Image object>"
      ]
     },
     "execution_count": 15,
     "metadata": {},
     "output_type": "execute_result"
    }
   ],
   "source": [
    "Image(workflow.get_graph().draw_mermaid_png())"
   ]
  },
  {
   "cell_type": "code",
   "execution_count": 43,
   "id": "daa71073",
   "metadata": {},
   "outputs": [
    {
     "data": {
      "text/plain": [
       "StateSnapshot(values={'topic': 'maggie'}, next=('generate_joke',), config={'configurable': {'thread_id': '3', 'checkpoint_id': '1f07a57f-35a0-6d82-8000-9bfaf15a972a'}}, metadata={'source': 'loop', 'step': 0, 'parents': {}}, created_at='2025-08-16T04:17:41.199398+00:00', parent_config={'configurable': {'thread_id': '3', 'checkpoint_ns': '', 'checkpoint_id': '1f07a57f-35a0-6d81-bfff-b5baaabb1252'}}, tasks=(PregelTask(id='7267ceac-ed99-7306-4f74-420fb6d012b9', name='generate_joke', path=('__pregel_pull', 'generate_joke'), error=None, interrupts=(), state=None, result={'joke': \"Why is Maggie so bad at telling the truth?\\n\\nBecause it claims it'll be ready in 2 minutes, but we all know that's a hot, steaming lie.\"}),), interrupts=())"
      ]
     },
     "execution_count": 43,
     "metadata": {},
     "output_type": "execute_result"
    }
   ],
   "source": [
    "# Time Travel\n",
    "workflow.get_state({\"configurable\":{\"thread_id\":\"3\",\"checkpoint_id\":\"1f07a57f-35a0-6d82-8000-9bfaf15a972a\"}})"
   ]
  },
  {
   "cell_type": "code",
   "execution_count": 45,
   "id": "d1201acd",
   "metadata": {},
   "outputs": [
    {
     "data": {
      "text/plain": [
       "{'topic': 'maggie',\n",
       " 'joke': 'Why did I break up with my packet of Maggie?\\n\\nBecause it had commitment issues. It promised me 2 minutes, but always ended up taking 10!',\n",
       " 'explanation': 'Of course! Here\\'s a breakdown of the joke:\\n\\nThe humor comes from a clever play on words and a relatable, everyday experience, using a technique called **personification**.\\n\\nHere\\'s the step-by-step explanation:\\n\\n1.  **The Setup (Personification):** The joke begins by treating a packet of Maggie (a popular brand of instant noodles) as a romantic partner. The phrase \"break up with\" immediately puts the noodles in the role of a boyfriend or girlfriend.\\n\\n2.  **The \"Promise\" (The Literal Meaning):** Maggie noodles are famously marketed as \"2-Minute Noodles.\" This is the \"promise\" or the \"commitment\" the product makes to the consumer on its packaging.\\n\\n3.  **The \"Reality\" (The Relatable Frustration):** Anyone who has actually made instant noodles knows it\\'s nearly impossible to do it in just two minutes. You have to boil the water, open the packets, cook the noodles, stir in the seasoning, and let it sit. The whole process realistically takes closer to 5-10 minutes.\\n\\n4.  **The Punchline (The Twist):** The punchline connects the two ideas:\\n    *   **\"Commitment issues\"** is a term used to describe someone in a relationship who is unreliable, can\\'t keep promises, or is afraid of a long-term commitment.\\n    *   The joke cleverly applies this serious relationship flaw to the noodles. The noodles \"committed\" to being ready in 2 minutes but failed to keep that promise, thus having \"commitment issues.\"\\n\\n**In short:** The joke humorously complains about the noodles taking longer to cook than advertised by framing it as a serious relationship problem, as if the noodles were an unfaithful partner who broke a major promise.'}"
      ]
     },
     "execution_count": 45,
     "metadata": {},
     "output_type": "execute_result"
    }
   ],
   "source": [
    "workflow.invoke(None,{\"configurable\":{\"thread_id\":\"3\",\"checkpoint_id\":\"1f07a57f-35a0-6d82-8000-9bfaf15a972a\"}})"
   ]
  },
  {
   "cell_type": "code",
   "execution_count": 48,
   "id": "ebee139a",
   "metadata": {},
   "outputs": [
    {
     "data": {
      "text/plain": [
       "[StateSnapshot(values={'topic': 'maggie', 'joke': 'Why did I break up with my packet of Maggie?\\n\\nBecause it had commitment issues. It promised me 2 minutes, but always ended up taking 10!', 'explanation': 'Of course! Here\\'s a breakdown of the joke:\\n\\nThe humor comes from a clever play on words and a relatable, everyday experience, using a technique called **personification**.\\n\\nHere\\'s the step-by-step explanation:\\n\\n1.  **The Setup (Personification):** The joke begins by treating a packet of Maggie (a popular brand of instant noodles) as a romantic partner. The phrase \"break up with\" immediately puts the noodles in the role of a boyfriend or girlfriend.\\n\\n2.  **The \"Promise\" (The Literal Meaning):** Maggie noodles are famously marketed as \"2-Minute Noodles.\" This is the \"promise\" or the \"commitment\" the product makes to the consumer on its packaging.\\n\\n3.  **The \"Reality\" (The Relatable Frustration):** Anyone who has actually made instant noodles knows it\\'s nearly impossible to do it in just two minutes. You have to boil the water, open the packets, cook the noodles, stir in the seasoning, and let it sit. The whole process realistically takes closer to 5-10 minutes.\\n\\n4.  **The Punchline (The Twist):** The punchline connects the two ideas:\\n    *   **\"Commitment issues\"** is a term used to describe someone in a relationship who is unreliable, can\\'t keep promises, or is afraid of a long-term commitment.\\n    *   The joke cleverly applies this serious relationship flaw to the noodles. The noodles \"committed\" to being ready in 2 minutes but failed to keep that promise, thus having \"commitment issues.\"\\n\\n**In short:** The joke humorously complains about the noodles taking longer to cook than advertised by framing it as a serious relationship problem, as if the noodles were an unfaithful partner who broke a major promise.'}, next=(), config={'configurable': {'thread_id': '3', 'checkpoint_ns': '', 'checkpoint_id': '1f07a5aa-a9ed-68d2-8002-17042d265c66'}}, metadata={'source': 'loop', 'step': 2, 'parents': {}}, created_at='2025-08-16T04:37:07.666760+00:00', parent_config={'configurable': {'thread_id': '3', 'checkpoint_ns': '', 'checkpoint_id': '1f07a5aa-16cf-6e21-8001-fb1a9ac563e6'}}, tasks=(), interrupts=()),\n",
       " StateSnapshot(values={'topic': 'maggie', 'joke': 'Why did I break up with my packet of Maggie?\\n\\nBecause it had commitment issues. It promised me 2 minutes, but always ended up taking 10!'}, next=('explanator_joke',), config={'configurable': {'thread_id': '3', 'checkpoint_ns': '', 'checkpoint_id': '1f07a5aa-16cf-6e21-8001-fb1a9ac563e6'}}, metadata={'source': 'loop', 'step': 1, 'parents': {}}, created_at='2025-08-16T04:36:52.240540+00:00', parent_config={'configurable': {'thread_id': '3', 'checkpoint_ns': '', 'checkpoint_id': '1f07a57f-35a0-6d82-8000-9bfaf15a972a'}}, tasks=(PregelTask(id='c0816f10-73bb-b340-8c51-ed183be49900', name='explanator_joke', path=('__pregel_pull', 'explanator_joke'), error=None, interrupts=(), state=None, result={'explanation': 'Of course! Here\\'s a breakdown of the joke:\\n\\nThe humor comes from a clever play on words and a relatable, everyday experience, using a technique called **personification**.\\n\\nHere\\'s the step-by-step explanation:\\n\\n1.  **The Setup (Personification):** The joke begins by treating a packet of Maggie (a popular brand of instant noodles) as a romantic partner. The phrase \"break up with\" immediately puts the noodles in the role of a boyfriend or girlfriend.\\n\\n2.  **The \"Promise\" (The Literal Meaning):** Maggie noodles are famously marketed as \"2-Minute Noodles.\" This is the \"promise\" or the \"commitment\" the product makes to the consumer on its packaging.\\n\\n3.  **The \"Reality\" (The Relatable Frustration):** Anyone who has actually made instant noodles knows it\\'s nearly impossible to do it in just two minutes. You have to boil the water, open the packets, cook the noodles, stir in the seasoning, and let it sit. The whole process realistically takes closer to 5-10 minutes.\\n\\n4.  **The Punchline (The Twist):** The punchline connects the two ideas:\\n    *   **\"Commitment issues\"** is a term used to describe someone in a relationship who is unreliable, can\\'t keep promises, or is afraid of a long-term commitment.\\n    *   The joke cleverly applies this serious relationship flaw to the noodles. The noodles \"committed\" to being ready in 2 minutes but failed to keep that promise, thus having \"commitment issues.\"\\n\\n**In short:** The joke humorously complains about the noodles taking longer to cook than advertised by framing it as a serious relationship problem, as if the noodles were an unfaithful partner who broke a major promise.'}),), interrupts=()),\n",
       " StateSnapshot(values={'topic': 'maggie', 'joke': \"Why is Maggie so bad at telling the truth?\\n\\nBecause it claims it'll be ready in 2 minutes, but we all know that's a hot, steaming lie.\", 'explanation': 'Of course! Here\\'s a breakdown of the joke.\\n\\nThe humor comes from a clever play on words and a shared, common experience related to a specific product.\\n\\n### The Key Elements Explained:\\n\\n1.  **\"Maggie\" is not a person:** The joke sets you up to think of a person named Maggie. However, it\\'s referring to **Maggi**, a very popular brand of instant noodles, especially in India and other parts of the world.\\n\\n2.  **The \"2-Minute\" Claim:** Maggi noodle packets famously advertise that they can be cooked and ready to eat in just \"2 minutes.\"\\n\\n3.  **The \"Hot, Steaming Lie\":** This is the core of the punchline and works on two levels (it\\'s a pun):\\n    *   **The Lie:** Anyone who has actually made Maggi noodles knows it takes longer than two minutes. You have to boil the water, add the noodles and seasoning, and let it cook. The \"2-minute\" claim is a well-known exaggeration, or a \"lie.\"\\n    *   **The Pun:** The phrase \"hot, steaming\" perfectly describes how the noodles are served—hot and steaming from the pot. So, the \"lie\" (the 2-minute claim) is being described in the same way as the food itself.\\n\\n### In short:\\n\\nThe joke personifies the Maggi noodle brand as a liar because its \"2-minute\" cooking time is famously inaccurate. The punchline is a pun, using \"hot, steaming\" to describe both the lie and the actual plate of noodles.'}, next=(), config={'configurable': {'thread_id': '3', 'checkpoint_ns': '', 'checkpoint_id': '1f07a580-4538-6422-8002-e9b0bf44c912'}}, metadata={'source': 'loop', 'step': 2, 'parents': {}}, created_at='2025-08-16T04:18:09.677827+00:00', parent_config={'configurable': {'thread_id': '3', 'checkpoint_ns': '', 'checkpoint_id': '1f07a57f-c816-622f-8001-29da2b3ff401'}}, tasks=(), interrupts=()),\n",
       " StateSnapshot(values={'topic': 'maggie', 'joke': \"Why is Maggie so bad at telling the truth?\\n\\nBecause it claims it'll be ready in 2 minutes, but we all know that's a hot, steaming lie.\"}, next=('explanator_joke',), config={'configurable': {'thread_id': '3', 'checkpoint_ns': '', 'checkpoint_id': '1f07a57f-c816-622f-8001-29da2b3ff401'}}, metadata={'source': 'loop', 'step': 1, 'parents': {}}, created_at='2025-08-16T04:17:56.556651+00:00', parent_config={'configurable': {'thread_id': '3', 'checkpoint_ns': '', 'checkpoint_id': '1f07a57f-35a0-6d82-8000-9bfaf15a972a'}}, tasks=(PregelTask(id='c90e4cea-abed-60c9-9415-2069967e32bd', name='explanator_joke', path=('__pregel_pull', 'explanator_joke'), error=None, interrupts=(), state=None, result={'explanation': 'Of course! Here\\'s a breakdown of the joke.\\n\\nThe humor comes from a clever play on words and a shared, common experience related to a specific product.\\n\\n### The Key Elements Explained:\\n\\n1.  **\"Maggie\" is not a person:** The joke sets you up to think of a person named Maggie. However, it\\'s referring to **Maggi**, a very popular brand of instant noodles, especially in India and other parts of the world.\\n\\n2.  **The \"2-Minute\" Claim:** Maggi noodle packets famously advertise that they can be cooked and ready to eat in just \"2 minutes.\"\\n\\n3.  **The \"Hot, Steaming Lie\":** This is the core of the punchline and works on two levels (it\\'s a pun):\\n    *   **The Lie:** Anyone who has actually made Maggi noodles knows it takes longer than two minutes. You have to boil the water, add the noodles and seasoning, and let it cook. The \"2-minute\" claim is a well-known exaggeration, or a \"lie.\"\\n    *   **The Pun:** The phrase \"hot, steaming\" perfectly describes how the noodles are served—hot and steaming from the pot. So, the \"lie\" (the 2-minute claim) is being described in the same way as the food itself.\\n\\n### In short:\\n\\nThe joke personifies the Maggi noodle brand as a liar because its \"2-minute\" cooking time is famously inaccurate. The punchline is a pun, using \"hot, steaming\" to describe both the lie and the actual plate of noodles.'}),), interrupts=()),\n",
       " StateSnapshot(values={'topic': 'maggie'}, next=('generate_joke',), config={'configurable': {'thread_id': '3', 'checkpoint_ns': '', 'checkpoint_id': '1f07a57f-35a0-6d82-8000-9bfaf15a972a'}}, metadata={'source': 'loop', 'step': 0, 'parents': {}}, created_at='2025-08-16T04:17:41.199398+00:00', parent_config={'configurable': {'thread_id': '3', 'checkpoint_ns': '', 'checkpoint_id': '1f07a57f-35a0-6d81-bfff-b5baaabb1252'}}, tasks=(PregelTask(id='7267ceac-ed99-7306-4f74-420fb6d012b9', name='generate_joke', path=('__pregel_pull', 'generate_joke'), error=None, interrupts=(), state=None, result={'joke': \"Why is Maggie so bad at telling the truth?\\n\\nBecause it claims it'll be ready in 2 minutes, but we all know that's a hot, steaming lie.\"}),), interrupts=()),\n",
       " StateSnapshot(values={}, next=('__start__',), config={'configurable': {'thread_id': '3', 'checkpoint_ns': '', 'checkpoint_id': '1f07a57f-35a0-6d81-bfff-b5baaabb1252'}}, metadata={'source': 'input', 'step': -1, 'parents': {}}, created_at='2025-08-16T04:17:41.199398+00:00', parent_config=None, tasks=(PregelTask(id='08e50018-bad4-1359-6a00-ad4dd5afbf8b', name='__start__', path=('__pregel_pull', '__start__'), error=None, interrupts=(), state=None, result={'topic': 'maggie'}),), interrupts=())]"
      ]
     },
     "execution_count": 48,
     "metadata": {},
     "output_type": "execute_result"
    }
   ],
   "source": [
    "config={\"configurable\":{\"thread_id\":\"3\"}}\n",
    "list(workflow.get_state_history(config=config))"
   ]
  },
  {
   "cell_type": "code",
   "execution_count": 50,
   "id": "8b0f2fdf",
   "metadata": {},
   "outputs": [
    {
     "data": {
      "text/plain": [
       "{'configurable': {'thread_id': '3',\n",
       "  'checkpoint_ns': '',\n",
       "  'checkpoint_id': '1f07a5b4-1021-6fd7-8001-1a157437df6c'}}"
      ]
     },
     "execution_count": 50,
     "metadata": {},
     "output_type": "execute_result"
    }
   ],
   "source": [
    "workflow.update_state({\"configurable\":{\"thread_id\":\"3\",\"checkpoint_id\":\"1f07a57f-35a0-6d82-8000-9bfaf15a972a\",'checkpoint_ns':''}},{'topic':'samosa'})"
   ]
  },
  {
   "cell_type": "code",
   "execution_count": 51,
   "id": "7be8fea3",
   "metadata": {},
   "outputs": [
    {
     "data": {
      "text/plain": [
       "[StateSnapshot(values={'topic': 'samosa'}, next=('generate_joke',), config={'configurable': {'thread_id': '3', 'checkpoint_ns': '', 'checkpoint_id': '1f07a5b4-1021-6fd7-8001-1a157437df6c'}}, metadata={'source': 'update', 'step': 1, 'parents': {}}, created_at='2025-08-16T04:41:19.975624+00:00', parent_config={'configurable': {'thread_id': '3', 'checkpoint_ns': '', 'checkpoint_id': '1f07a57f-35a0-6d82-8000-9bfaf15a972a'}}, tasks=(PregelTask(id='eaea5ecf-5874-864e-d148-9e5e2d554ad7', name='generate_joke', path=('__pregel_pull', 'generate_joke'), error=None, interrupts=(), state=None, result=None),), interrupts=()),\n",
       " StateSnapshot(values={'topic': 'maggie', 'joke': 'Why did I break up with my packet of Maggie?\\n\\nBecause it had commitment issues. It promised me 2 minutes, but always ended up taking 10!', 'explanation': 'Of course! Here\\'s a breakdown of the joke:\\n\\nThe humor comes from a clever play on words and a relatable, everyday experience, using a technique called **personification**.\\n\\nHere\\'s the step-by-step explanation:\\n\\n1.  **The Setup (Personification):** The joke begins by treating a packet of Maggie (a popular brand of instant noodles) as a romantic partner. The phrase \"break up with\" immediately puts the noodles in the role of a boyfriend or girlfriend.\\n\\n2.  **The \"Promise\" (The Literal Meaning):** Maggie noodles are famously marketed as \"2-Minute Noodles.\" This is the \"promise\" or the \"commitment\" the product makes to the consumer on its packaging.\\n\\n3.  **The \"Reality\" (The Relatable Frustration):** Anyone who has actually made instant noodles knows it\\'s nearly impossible to do it in just two minutes. You have to boil the water, open the packets, cook the noodles, stir in the seasoning, and let it sit. The whole process realistically takes closer to 5-10 minutes.\\n\\n4.  **The Punchline (The Twist):** The punchline connects the two ideas:\\n    *   **\"Commitment issues\"** is a term used to describe someone in a relationship who is unreliable, can\\'t keep promises, or is afraid of a long-term commitment.\\n    *   The joke cleverly applies this serious relationship flaw to the noodles. The noodles \"committed\" to being ready in 2 minutes but failed to keep that promise, thus having \"commitment issues.\"\\n\\n**In short:** The joke humorously complains about the noodles taking longer to cook than advertised by framing it as a serious relationship problem, as if the noodles were an unfaithful partner who broke a major promise.'}, next=(), config={'configurable': {'thread_id': '3', 'checkpoint_ns': '', 'checkpoint_id': '1f07a5aa-a9ed-68d2-8002-17042d265c66'}}, metadata={'source': 'loop', 'step': 2, 'parents': {}}, created_at='2025-08-16T04:37:07.666760+00:00', parent_config={'configurable': {'thread_id': '3', 'checkpoint_ns': '', 'checkpoint_id': '1f07a5aa-16cf-6e21-8001-fb1a9ac563e6'}}, tasks=(), interrupts=()),\n",
       " StateSnapshot(values={'topic': 'maggie', 'joke': 'Why did I break up with my packet of Maggie?\\n\\nBecause it had commitment issues. It promised me 2 minutes, but always ended up taking 10!'}, next=('explanator_joke',), config={'configurable': {'thread_id': '3', 'checkpoint_ns': '', 'checkpoint_id': '1f07a5aa-16cf-6e21-8001-fb1a9ac563e6'}}, metadata={'source': 'loop', 'step': 1, 'parents': {}}, created_at='2025-08-16T04:36:52.240540+00:00', parent_config={'configurable': {'thread_id': '3', 'checkpoint_ns': '', 'checkpoint_id': '1f07a57f-35a0-6d82-8000-9bfaf15a972a'}}, tasks=(PregelTask(id='c0816f10-73bb-b340-8c51-ed183be49900', name='explanator_joke', path=('__pregel_pull', 'explanator_joke'), error=None, interrupts=(), state=None, result={'explanation': 'Of course! Here\\'s a breakdown of the joke:\\n\\nThe humor comes from a clever play on words and a relatable, everyday experience, using a technique called **personification**.\\n\\nHere\\'s the step-by-step explanation:\\n\\n1.  **The Setup (Personification):** The joke begins by treating a packet of Maggie (a popular brand of instant noodles) as a romantic partner. The phrase \"break up with\" immediately puts the noodles in the role of a boyfriend or girlfriend.\\n\\n2.  **The \"Promise\" (The Literal Meaning):** Maggie noodles are famously marketed as \"2-Minute Noodles.\" This is the \"promise\" or the \"commitment\" the product makes to the consumer on its packaging.\\n\\n3.  **The \"Reality\" (The Relatable Frustration):** Anyone who has actually made instant noodles knows it\\'s nearly impossible to do it in just two minutes. You have to boil the water, open the packets, cook the noodles, stir in the seasoning, and let it sit. The whole process realistically takes closer to 5-10 minutes.\\n\\n4.  **The Punchline (The Twist):** The punchline connects the two ideas:\\n    *   **\"Commitment issues\"** is a term used to describe someone in a relationship who is unreliable, can\\'t keep promises, or is afraid of a long-term commitment.\\n    *   The joke cleverly applies this serious relationship flaw to the noodles. The noodles \"committed\" to being ready in 2 minutes but failed to keep that promise, thus having \"commitment issues.\"\\n\\n**In short:** The joke humorously complains about the noodles taking longer to cook than advertised by framing it as a serious relationship problem, as if the noodles were an unfaithful partner who broke a major promise.'}),), interrupts=()),\n",
       " StateSnapshot(values={'topic': 'maggie', 'joke': \"Why is Maggie so bad at telling the truth?\\n\\nBecause it claims it'll be ready in 2 minutes, but we all know that's a hot, steaming lie.\", 'explanation': 'Of course! Here\\'s a breakdown of the joke.\\n\\nThe humor comes from a clever play on words and a shared, common experience related to a specific product.\\n\\n### The Key Elements Explained:\\n\\n1.  **\"Maggie\" is not a person:** The joke sets you up to think of a person named Maggie. However, it\\'s referring to **Maggi**, a very popular brand of instant noodles, especially in India and other parts of the world.\\n\\n2.  **The \"2-Minute\" Claim:** Maggi noodle packets famously advertise that they can be cooked and ready to eat in just \"2 minutes.\"\\n\\n3.  **The \"Hot, Steaming Lie\":** This is the core of the punchline and works on two levels (it\\'s a pun):\\n    *   **The Lie:** Anyone who has actually made Maggi noodles knows it takes longer than two minutes. You have to boil the water, add the noodles and seasoning, and let it cook. The \"2-minute\" claim is a well-known exaggeration, or a \"lie.\"\\n    *   **The Pun:** The phrase \"hot, steaming\" perfectly describes how the noodles are served—hot and steaming from the pot. So, the \"lie\" (the 2-minute claim) is being described in the same way as the food itself.\\n\\n### In short:\\n\\nThe joke personifies the Maggi noodle brand as a liar because its \"2-minute\" cooking time is famously inaccurate. The punchline is a pun, using \"hot, steaming\" to describe both the lie and the actual plate of noodles.'}, next=(), config={'configurable': {'thread_id': '3', 'checkpoint_ns': '', 'checkpoint_id': '1f07a580-4538-6422-8002-e9b0bf44c912'}}, metadata={'source': 'loop', 'step': 2, 'parents': {}}, created_at='2025-08-16T04:18:09.677827+00:00', parent_config={'configurable': {'thread_id': '3', 'checkpoint_ns': '', 'checkpoint_id': '1f07a57f-c816-622f-8001-29da2b3ff401'}}, tasks=(), interrupts=()),\n",
       " StateSnapshot(values={'topic': 'maggie', 'joke': \"Why is Maggie so bad at telling the truth?\\n\\nBecause it claims it'll be ready in 2 minutes, but we all know that's a hot, steaming lie.\"}, next=('explanator_joke',), config={'configurable': {'thread_id': '3', 'checkpoint_ns': '', 'checkpoint_id': '1f07a57f-c816-622f-8001-29da2b3ff401'}}, metadata={'source': 'loop', 'step': 1, 'parents': {}}, created_at='2025-08-16T04:17:56.556651+00:00', parent_config={'configurable': {'thread_id': '3', 'checkpoint_ns': '', 'checkpoint_id': '1f07a57f-35a0-6d82-8000-9bfaf15a972a'}}, tasks=(PregelTask(id='c90e4cea-abed-60c9-9415-2069967e32bd', name='explanator_joke', path=('__pregel_pull', 'explanator_joke'), error=None, interrupts=(), state=None, result={'explanation': 'Of course! Here\\'s a breakdown of the joke.\\n\\nThe humor comes from a clever play on words and a shared, common experience related to a specific product.\\n\\n### The Key Elements Explained:\\n\\n1.  **\"Maggie\" is not a person:** The joke sets you up to think of a person named Maggie. However, it\\'s referring to **Maggi**, a very popular brand of instant noodles, especially in India and other parts of the world.\\n\\n2.  **The \"2-Minute\" Claim:** Maggi noodle packets famously advertise that they can be cooked and ready to eat in just \"2 minutes.\"\\n\\n3.  **The \"Hot, Steaming Lie\":** This is the core of the punchline and works on two levels (it\\'s a pun):\\n    *   **The Lie:** Anyone who has actually made Maggi noodles knows it takes longer than two minutes. You have to boil the water, add the noodles and seasoning, and let it cook. The \"2-minute\" claim is a well-known exaggeration, or a \"lie.\"\\n    *   **The Pun:** The phrase \"hot, steaming\" perfectly describes how the noodles are served—hot and steaming from the pot. So, the \"lie\" (the 2-minute claim) is being described in the same way as the food itself.\\n\\n### In short:\\n\\nThe joke personifies the Maggi noodle brand as a liar because its \"2-minute\" cooking time is famously inaccurate. The punchline is a pun, using \"hot, steaming\" to describe both the lie and the actual plate of noodles.'}),), interrupts=()),\n",
       " StateSnapshot(values={'topic': 'maggie'}, next=('generate_joke',), config={'configurable': {'thread_id': '3', 'checkpoint_ns': '', 'checkpoint_id': '1f07a57f-35a0-6d82-8000-9bfaf15a972a'}}, metadata={'source': 'loop', 'step': 0, 'parents': {}}, created_at='2025-08-16T04:17:41.199398+00:00', parent_config={'configurable': {'thread_id': '3', 'checkpoint_ns': '', 'checkpoint_id': '1f07a57f-35a0-6d81-bfff-b5baaabb1252'}}, tasks=(PregelTask(id='7267ceac-ed99-7306-4f74-420fb6d012b9', name='generate_joke', path=('__pregel_pull', 'generate_joke'), error=None, interrupts=(), state=None, result={'joke': \"Why is Maggie so bad at telling the truth?\\n\\nBecause it claims it'll be ready in 2 minutes, but we all know that's a hot, steaming lie.\"}),), interrupts=()),\n",
       " StateSnapshot(values={}, next=('__start__',), config={'configurable': {'thread_id': '3', 'checkpoint_ns': '', 'checkpoint_id': '1f07a57f-35a0-6d81-bfff-b5baaabb1252'}}, metadata={'source': 'input', 'step': -1, 'parents': {}}, created_at='2025-08-16T04:17:41.199398+00:00', parent_config=None, tasks=(PregelTask(id='08e50018-bad4-1359-6a00-ad4dd5afbf8b', name='__start__', path=('__pregel_pull', '__start__'), error=None, interrupts=(), state=None, result={'topic': 'maggie'}),), interrupts=())]"
      ]
     },
     "execution_count": 51,
     "metadata": {},
     "output_type": "execute_result"
    }
   ],
   "source": [
    "list(workflow.get_state_history({\"configurable\":{\"thread_id\":\"3\"}}))"
   ]
  },
  {
   "cell_type": "code",
   "execution_count": 53,
   "id": "2346c853",
   "metadata": {},
   "outputs": [
    {
     "data": {
      "text/plain": [
       "{'topic': 'samosa',\n",
       " 'joke': 'Why did the samosa get so emotional?\\n\\nBecause it was full of deep *fillings*',\n",
       " 'explanation': 'Of course! This is a classic pun, which relies on a word having two different meanings.\\n\\nHere\\'s the breakdown:\\n\\n1.  **The Literal Meaning:** A samosa is a pastry that is **filled** with a savory mixture, usually of spiced potatoes, peas, and onions. So, it is literally \"full of fillings.\" The word \"deep\" can also be a nod to the fact that samosas are often **deep-fried**.\\n\\n2.  **The Pun/Figurative Meaning:** The word **\"fillings\"** sounds exactly like the word **\"feelings\"**.\\n\\nWhen you put it together, the joke works like this:\\n\\nThe question asks why the samosa was \"emotional,\" making you think about human emotions. The answer, \"Because it was full of deep *fillings*,\" sounds like it\\'s saying the samosa was full of deep **feelings** (strong emotions), which would be a logical answer to the question. However, it\\'s actually a literal description of the food itself.\\n\\nThe humor comes from that clever and unexpected switch between the emotional meaning and the literal food meaning.'}"
      ]
     },
     "execution_count": 53,
     "metadata": {},
     "output_type": "execute_result"
    }
   ],
   "source": [
    "workflow.invoke(None,{\"configurable\":{\"thread_id\":\"3\",\"checkpoint_id\":\"1f07a5b4-1021-6fd7-8001-1a157437df6c\"}})"
   ]
  },
  {
   "cell_type": "code",
   "execution_count": 56,
   "id": "79144017",
   "metadata": {},
   "outputs": [
    {
     "data": {
      "text/plain": [
       "[StateSnapshot(values={'topic': 'samosa', 'joke': 'Why did the samosa get so emotional?\\n\\nBecause it was full of deep *fillings*', 'explanation': 'Of course! This is a classic pun, which relies on a word having two different meanings.\\n\\nHere\\'s the breakdown:\\n\\n1.  **The Literal Meaning:** A samosa is a pastry that is **filled** with a savory mixture, usually of spiced potatoes, peas, and onions. So, it is literally \"full of fillings.\" The word \"deep\" can also be a nod to the fact that samosas are often **deep-fried**.\\n\\n2.  **The Pun/Figurative Meaning:** The word **\"fillings\"** sounds exactly like the word **\"feelings\"**.\\n\\nWhen you put it together, the joke works like this:\\n\\nThe question asks why the samosa was \"emotional,\" making you think about human emotions. The answer, \"Because it was full of deep *fillings*,\" sounds like it\\'s saying the samosa was full of deep **feelings** (strong emotions), which would be a logical answer to the question. However, it\\'s actually a literal description of the food itself.\\n\\nThe humor comes from that clever and unexpected switch between the emotional meaning and the literal food meaning.'}, next=(), config={'configurable': {'thread_id': '3', 'checkpoint_ns': '', 'checkpoint_id': '1f07a5b8-49ce-648a-8003-9c00988c9a05'}}, metadata={'source': 'loop', 'step': 3, 'parents': {}}, created_at='2025-08-16T04:43:13.397261+00:00', parent_config={'configurable': {'thread_id': '3', 'checkpoint_ns': '', 'checkpoint_id': '1f07a5b7-c316-6e20-8002-706b023b4537'}}, tasks=(), interrupts=()),\n",
       " StateSnapshot(values={'topic': 'samosa', 'joke': 'Why did the samosa get so emotional?\\n\\nBecause it was full of deep *fillings*'}, next=('explanator_joke',), config={'configurable': {'thread_id': '3', 'checkpoint_ns': '', 'checkpoint_id': '1f07a5b7-c316-6e20-8002-706b023b4537'}}, metadata={'source': 'loop', 'step': 2, 'parents': {}}, created_at='2025-08-16T04:42:59.271222+00:00', parent_config={'configurable': {'thread_id': '3', 'checkpoint_ns': '', 'checkpoint_id': '1f07a5b4-1021-6fd7-8001-1a157437df6c'}}, tasks=(PregelTask(id='a8506903-6a97-9599-3aa7-0c07e315c7d8', name='explanator_joke', path=('__pregel_pull', 'explanator_joke'), error=None, interrupts=(), state=None, result={'explanation': 'Of course! This is a classic pun, which relies on a word having two different meanings.\\n\\nHere\\'s the breakdown:\\n\\n1.  **The Literal Meaning:** A samosa is a pastry that is **filled** with a savory mixture, usually of spiced potatoes, peas, and onions. So, it is literally \"full of fillings.\" The word \"deep\" can also be a nod to the fact that samosas are often **deep-fried**.\\n\\n2.  **The Pun/Figurative Meaning:** The word **\"fillings\"** sounds exactly like the word **\"feelings\"**.\\n\\nWhen you put it together, the joke works like this:\\n\\nThe question asks why the samosa was \"emotional,\" making you think about human emotions. The answer, \"Because it was full of deep *fillings*,\" sounds like it\\'s saying the samosa was full of deep **feelings** (strong emotions), which would be a logical answer to the question. However, it\\'s actually a literal description of the food itself.\\n\\nThe humor comes from that clever and unexpected switch between the emotional meaning and the literal food meaning.'}),), interrupts=()),\n",
       " StateSnapshot(values={'topic': 'samosa'}, next=('generate_joke',), config={'configurable': {'thread_id': '3', 'checkpoint_ns': '', 'checkpoint_id': '1f07a5b4-1021-6fd7-8001-1a157437df6c'}}, metadata={'source': 'update', 'step': 1, 'parents': {}}, created_at='2025-08-16T04:41:19.975624+00:00', parent_config={'configurable': {'thread_id': '3', 'checkpoint_ns': '', 'checkpoint_id': '1f07a57f-35a0-6d82-8000-9bfaf15a972a'}}, tasks=(PregelTask(id='eaea5ecf-5874-864e-d148-9e5e2d554ad7', name='generate_joke', path=('__pregel_pull', 'generate_joke'), error=None, interrupts=(), state=None, result={'joke': 'Why did the samosa get so emotional?\\n\\nBecause it was full of deep *fillings*'}),), interrupts=()),\n",
       " StateSnapshot(values={'topic': 'maggie', 'joke': 'Why did I break up with my packet of Maggie?\\n\\nBecause it had commitment issues. It promised me 2 minutes, but always ended up taking 10!', 'explanation': 'Of course! Here\\'s a breakdown of the joke:\\n\\nThe humor comes from a clever play on words and a relatable, everyday experience, using a technique called **personification**.\\n\\nHere\\'s the step-by-step explanation:\\n\\n1.  **The Setup (Personification):** The joke begins by treating a packet of Maggie (a popular brand of instant noodles) as a romantic partner. The phrase \"break up with\" immediately puts the noodles in the role of a boyfriend or girlfriend.\\n\\n2.  **The \"Promise\" (The Literal Meaning):** Maggie noodles are famously marketed as \"2-Minute Noodles.\" This is the \"promise\" or the \"commitment\" the product makes to the consumer on its packaging.\\n\\n3.  **The \"Reality\" (The Relatable Frustration):** Anyone who has actually made instant noodles knows it\\'s nearly impossible to do it in just two minutes. You have to boil the water, open the packets, cook the noodles, stir in the seasoning, and let it sit. The whole process realistically takes closer to 5-10 minutes.\\n\\n4.  **The Punchline (The Twist):** The punchline connects the two ideas:\\n    *   **\"Commitment issues\"** is a term used to describe someone in a relationship who is unreliable, can\\'t keep promises, or is afraid of a long-term commitment.\\n    *   The joke cleverly applies this serious relationship flaw to the noodles. The noodles \"committed\" to being ready in 2 minutes but failed to keep that promise, thus having \"commitment issues.\"\\n\\n**In short:** The joke humorously complains about the noodles taking longer to cook than advertised by framing it as a serious relationship problem, as if the noodles were an unfaithful partner who broke a major promise.'}, next=(), config={'configurable': {'thread_id': '3', 'checkpoint_ns': '', 'checkpoint_id': '1f07a5aa-a9ed-68d2-8002-17042d265c66'}}, metadata={'source': 'loop', 'step': 2, 'parents': {}}, created_at='2025-08-16T04:37:07.666760+00:00', parent_config={'configurable': {'thread_id': '3', 'checkpoint_ns': '', 'checkpoint_id': '1f07a5aa-16cf-6e21-8001-fb1a9ac563e6'}}, tasks=(), interrupts=()),\n",
       " StateSnapshot(values={'topic': 'maggie', 'joke': 'Why did I break up with my packet of Maggie?\\n\\nBecause it had commitment issues. It promised me 2 minutes, but always ended up taking 10!'}, next=('explanator_joke',), config={'configurable': {'thread_id': '3', 'checkpoint_ns': '', 'checkpoint_id': '1f07a5aa-16cf-6e21-8001-fb1a9ac563e6'}}, metadata={'source': 'loop', 'step': 1, 'parents': {}}, created_at='2025-08-16T04:36:52.240540+00:00', parent_config={'configurable': {'thread_id': '3', 'checkpoint_ns': '', 'checkpoint_id': '1f07a57f-35a0-6d82-8000-9bfaf15a972a'}}, tasks=(PregelTask(id='c0816f10-73bb-b340-8c51-ed183be49900', name='explanator_joke', path=('__pregel_pull', 'explanator_joke'), error=None, interrupts=(), state=None, result={'explanation': 'Of course! Here\\'s a breakdown of the joke:\\n\\nThe humor comes from a clever play on words and a relatable, everyday experience, using a technique called **personification**.\\n\\nHere\\'s the step-by-step explanation:\\n\\n1.  **The Setup (Personification):** The joke begins by treating a packet of Maggie (a popular brand of instant noodles) as a romantic partner. The phrase \"break up with\" immediately puts the noodles in the role of a boyfriend or girlfriend.\\n\\n2.  **The \"Promise\" (The Literal Meaning):** Maggie noodles are famously marketed as \"2-Minute Noodles.\" This is the \"promise\" or the \"commitment\" the product makes to the consumer on its packaging.\\n\\n3.  **The \"Reality\" (The Relatable Frustration):** Anyone who has actually made instant noodles knows it\\'s nearly impossible to do it in just two minutes. You have to boil the water, open the packets, cook the noodles, stir in the seasoning, and let it sit. The whole process realistically takes closer to 5-10 minutes.\\n\\n4.  **The Punchline (The Twist):** The punchline connects the two ideas:\\n    *   **\"Commitment issues\"** is a term used to describe someone in a relationship who is unreliable, can\\'t keep promises, or is afraid of a long-term commitment.\\n    *   The joke cleverly applies this serious relationship flaw to the noodles. The noodles \"committed\" to being ready in 2 minutes but failed to keep that promise, thus having \"commitment issues.\"\\n\\n**In short:** The joke humorously complains about the noodles taking longer to cook than advertised by framing it as a serious relationship problem, as if the noodles were an unfaithful partner who broke a major promise.'}),), interrupts=()),\n",
       " StateSnapshot(values={'topic': 'maggie', 'joke': \"Why is Maggie so bad at telling the truth?\\n\\nBecause it claims it'll be ready in 2 minutes, but we all know that's a hot, steaming lie.\", 'explanation': 'Of course! Here\\'s a breakdown of the joke.\\n\\nThe humor comes from a clever play on words and a shared, common experience related to a specific product.\\n\\n### The Key Elements Explained:\\n\\n1.  **\"Maggie\" is not a person:** The joke sets you up to think of a person named Maggie. However, it\\'s referring to **Maggi**, a very popular brand of instant noodles, especially in India and other parts of the world.\\n\\n2.  **The \"2-Minute\" Claim:** Maggi noodle packets famously advertise that they can be cooked and ready to eat in just \"2 minutes.\"\\n\\n3.  **The \"Hot, Steaming Lie\":** This is the core of the punchline and works on two levels (it\\'s a pun):\\n    *   **The Lie:** Anyone who has actually made Maggi noodles knows it takes longer than two minutes. You have to boil the water, add the noodles and seasoning, and let it cook. The \"2-minute\" claim is a well-known exaggeration, or a \"lie.\"\\n    *   **The Pun:** The phrase \"hot, steaming\" perfectly describes how the noodles are served—hot and steaming from the pot. So, the \"lie\" (the 2-minute claim) is being described in the same way as the food itself.\\n\\n### In short:\\n\\nThe joke personifies the Maggi noodle brand as a liar because its \"2-minute\" cooking time is famously inaccurate. The punchline is a pun, using \"hot, steaming\" to describe both the lie and the actual plate of noodles.'}, next=(), config={'configurable': {'thread_id': '3', 'checkpoint_ns': '', 'checkpoint_id': '1f07a580-4538-6422-8002-e9b0bf44c912'}}, metadata={'source': 'loop', 'step': 2, 'parents': {}}, created_at='2025-08-16T04:18:09.677827+00:00', parent_config={'configurable': {'thread_id': '3', 'checkpoint_ns': '', 'checkpoint_id': '1f07a57f-c816-622f-8001-29da2b3ff401'}}, tasks=(), interrupts=()),\n",
       " StateSnapshot(values={'topic': 'maggie', 'joke': \"Why is Maggie so bad at telling the truth?\\n\\nBecause it claims it'll be ready in 2 minutes, but we all know that's a hot, steaming lie.\"}, next=('explanator_joke',), config={'configurable': {'thread_id': '3', 'checkpoint_ns': '', 'checkpoint_id': '1f07a57f-c816-622f-8001-29da2b3ff401'}}, metadata={'source': 'loop', 'step': 1, 'parents': {}}, created_at='2025-08-16T04:17:56.556651+00:00', parent_config={'configurable': {'thread_id': '3', 'checkpoint_ns': '', 'checkpoint_id': '1f07a57f-35a0-6d82-8000-9bfaf15a972a'}}, tasks=(PregelTask(id='c90e4cea-abed-60c9-9415-2069967e32bd', name='explanator_joke', path=('__pregel_pull', 'explanator_joke'), error=None, interrupts=(), state=None, result={'explanation': 'Of course! Here\\'s a breakdown of the joke.\\n\\nThe humor comes from a clever play on words and a shared, common experience related to a specific product.\\n\\n### The Key Elements Explained:\\n\\n1.  **\"Maggie\" is not a person:** The joke sets you up to think of a person named Maggie. However, it\\'s referring to **Maggi**, a very popular brand of instant noodles, especially in India and other parts of the world.\\n\\n2.  **The \"2-Minute\" Claim:** Maggi noodle packets famously advertise that they can be cooked and ready to eat in just \"2 minutes.\"\\n\\n3.  **The \"Hot, Steaming Lie\":** This is the core of the punchline and works on two levels (it\\'s a pun):\\n    *   **The Lie:** Anyone who has actually made Maggi noodles knows it takes longer than two minutes. You have to boil the water, add the noodles and seasoning, and let it cook. The \"2-minute\" claim is a well-known exaggeration, or a \"lie.\"\\n    *   **The Pun:** The phrase \"hot, steaming\" perfectly describes how the noodles are served—hot and steaming from the pot. So, the \"lie\" (the 2-minute claim) is being described in the same way as the food itself.\\n\\n### In short:\\n\\nThe joke personifies the Maggi noodle brand as a liar because its \"2-minute\" cooking time is famously inaccurate. The punchline is a pun, using \"hot, steaming\" to describe both the lie and the actual plate of noodles.'}),), interrupts=()),\n",
       " StateSnapshot(values={'topic': 'maggie'}, next=('generate_joke',), config={'configurable': {'thread_id': '3', 'checkpoint_ns': '', 'checkpoint_id': '1f07a57f-35a0-6d82-8000-9bfaf15a972a'}}, metadata={'source': 'loop', 'step': 0, 'parents': {}}, created_at='2025-08-16T04:17:41.199398+00:00', parent_config={'configurable': {'thread_id': '3', 'checkpoint_ns': '', 'checkpoint_id': '1f07a57f-35a0-6d81-bfff-b5baaabb1252'}}, tasks=(PregelTask(id='7267ceac-ed99-7306-4f74-420fb6d012b9', name='generate_joke', path=('__pregel_pull', 'generate_joke'), error=None, interrupts=(), state=None, result={'joke': \"Why is Maggie so bad at telling the truth?\\n\\nBecause it claims it'll be ready in 2 minutes, but we all know that's a hot, steaming lie.\"}),), interrupts=()),\n",
       " StateSnapshot(values={}, next=('__start__',), config={'configurable': {'thread_id': '3', 'checkpoint_ns': '', 'checkpoint_id': '1f07a57f-35a0-6d81-bfff-b5baaabb1252'}}, metadata={'source': 'input', 'step': -1, 'parents': {}}, created_at='2025-08-16T04:17:41.199398+00:00', parent_config=None, tasks=(PregelTask(id='08e50018-bad4-1359-6a00-ad4dd5afbf8b', name='__start__', path=('__pregel_pull', '__start__'), error=None, interrupts=(), state=None, result={'topic': 'maggie'}),), interrupts=())]"
      ]
     },
     "execution_count": 56,
     "metadata": {},
     "output_type": "execute_result"
    }
   ],
   "source": [
    "config={\"configurable\":{\"thread_id\":\"3\"}}\n",
    "list(workflow.get_state_history(config))"
   ]
  },
  {
   "cell_type": "code",
   "execution_count": null,
   "id": "eb4ade64",
   "metadata": {},
   "outputs": [],
   "source": []
  }
 ],
 "metadata": {
  "kernelspec": {
   "display_name": "Python 3",
   "language": "python",
   "name": "python3"
  },
  "language_info": {
   "codemirror_mode": {
    "name": "ipython",
    "version": 3
   },
   "file_extension": ".py",
   "mimetype": "text/x-python",
   "name": "python",
   "nbconvert_exporter": "python",
   "pygments_lexer": "ipython3",
   "version": "3.12.0"
  }
 },
 "nbformat": 4,
 "nbformat_minor": 5
}
